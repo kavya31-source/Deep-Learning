{
 "cells": [
  {
   "cell_type": "markdown",
   "metadata": {
    "colab_type": "text",
    "id": "t9oX7AL3nyLm"
   },
   "source": [
    "#### Problem Statement: To categorise the people whose credit card applications were  wrongly accepted and thus commiting fraud using Self Organising Maps."
   ]
  },
  {
   "cell_type": "code",
   "execution_count": 1,
   "metadata": {
    "colab": {
     "base_uri": "https://localhost:8080/",
     "height": 34
    },
    "colab_type": "code",
    "id": "1KB28WUso0Bj",
    "outputId": "e8fb3cdd-73e2-49c2-9976-25be1b37e9e6"
   },
   "outputs": [
    {
     "name": "stdout",
     "output_type": "stream",
     "text": [
      "Collecting MiniSom\n",
      "  Downloading MiniSom-2.2.9.tar.gz (8.1 kB)\n",
      "Building wheels for collected packages: MiniSom\n",
      "  Building wheel for MiniSom (setup.py): started\n",
      "  Building wheel for MiniSom (setup.py): finished with status 'done'\n",
      "  Created wheel for MiniSom: filename=MiniSom-2.2.9-py3-none-any.whl size=8603 sha256=b6f0c868746629ac6005b79cf4f5bbc37b5d56188eaddf392f58f5f70a36231f\n",
      "  Stored in directory: c:\\users\\acer\\appdata\\local\\pip\\cache\\wheels\\20\\ac\\08\\bf890821fa2cebf9c3a1ba9167e64c5d038885f9cb2abc5b9b\n",
      "Successfully built MiniSom\n",
      "Installing collected packages: MiniSom\n",
      "Successfully installed MiniSom-2.2.9\n"
     ]
    }
   ],
   "source": [
    "!pip install MiniSom"
   ]
  },
  {
   "cell_type": "markdown",
   "metadata": {
    "colab_type": "text",
    "id": "6AX0Y23PnyOI"
   },
   "source": [
    "### Importing the libraries\n"
   ]
  },
  {
   "cell_type": "code",
   "execution_count": 23,
   "metadata": {
    "colab": {},
    "colab_type": "code",
    "id": "gaSkOFKKBB3b"
   },
   "outputs": [],
   "source": [
    "import numpy as np\n",
    "import pandas as pd\n",
    "import matplotlib.pyplot as plt\n",
    "from sklearn.preprocessing import MinMaxScaler\n",
    "from minisom import MiniSom\n",
    "from pylab import bone, pcolor, colorbar, plot, show"
   ]
  },
  {
   "cell_type": "markdown",
   "metadata": {
    "colab_type": "text",
    "id": "SCl7ERn_n539"
   },
   "source": [
    "## Importing the dataset"
   ]
  },
  {
   "cell_type": "code",
   "execution_count": 24,
   "metadata": {
    "colab": {},
    "colab_type": "code",
    "id": "4hgeaN3CoRfl"
   },
   "outputs": [
    {
     "data": {
      "text/plain": [
       "(690, 15)"
      ]
     },
     "execution_count": 24,
     "metadata": {},
     "output_type": "execute_result"
    }
   ],
   "source": [
    "dataset = pd.read_csv('D:/MTech-DSML/Deep Learning/Udemy/SOM/Credit_Card_Applications.csv')\n",
    "X = dataset.iloc[:, :-1].values \n",
    "y = dataset.iloc[:, -1].values\n",
    "X.shape"
   ]
  },
  {
   "cell_type": "markdown",
   "metadata": {
    "colab_type": "text",
    "id": "fYHJ0dd6n-d4"
   },
   "source": [
    "## Feature Scaling\n"
   ]
  },
  {
   "cell_type": "code",
   "execution_count": 25,
   "metadata": {
    "colab": {},
    "colab_type": "code",
    "id": "sY7JiUxwoSOd"
   },
   "outputs": [],
   "source": [
    "sc = MinMaxScaler(feature_range = (0,1))\n",
    "X = sc.fit_transform(X)"
   ]
  },
  {
   "cell_type": "markdown",
   "metadata": {
    "colab_type": "text",
    "id": "aPp-7wfNoAhR"
   },
   "source": [
    "## Training the SOM\n"
   ]
  },
  {
   "cell_type": "code",
   "execution_count": 26,
   "metadata": {
    "colab": {},
    "colab_type": "code",
    "id": "3iuAhM6ooS0k"
   },
   "outputs": [],
   "source": [
    "# Building a 10x10 grid with the 15 input features\n",
    "som = MiniSom(x=10, y=10, input_len= 15, sigma= 1.0, learning_rate = 0.5)\n",
    "som.random_weights_init(X)\n",
    "som.train_random(data = X, num_iteration = 100)"
   ]
  },
  {
   "cell_type": "markdown",
   "metadata": {
    "colab_type": "text",
    "id": "YiU27C-ToCnH"
   },
   "source": [
    "## Visualizing the results\n"
   ]
  },
  {
   "cell_type": "code",
   "execution_count": 28,
   "metadata": {
    "colab": {},
    "colab_type": "code",
    "id": "XzrIX4fZoTQj"
   },
   "outputs": [
    {
     "data": {
      "image/png": "[encoded data removed]",
      "text/plain": [
       "<Figure size 432x288 with 2 Axes>"
      ]
     },
     "metadata": {
      "needs_background": "light"
     },
     "output_type": "display_data"
    }
   ],
   "source": [
    "bone()\n",
    "pcolor(som.distance_map().T)\n",
    "colorbar()\n",
    "markers = ['o', 's']\n",
    "colors = ['r', 'g']\n",
    "for i, x in enumerate(X):\n",
    "    w = som.winner(x)\n",
    "    plot(w[0] + 0.5,\n",
    "         w[1] + 0.5,\n",
    "         markers[y[i]],\n",
    "         markeredgecolor = colors[y[i]],\n",
    "         markerfacecolor = 'None',\n",
    "         markersize = 10,\n",
    "         markeredgewidth = 2)\n",
    "show()"
   ]
  },
  {
   "cell_type": "markdown",
   "metadata": {},
   "source": [
    "##### The plot above states that the white squares corresponding to a correlation of 1 have commited fraud."
   ]
  },
  {
   "cell_type": "markdown",
   "metadata": {
    "colab_type": "text",
    "id": "4C-I_jBfoEkP"
   },
   "source": [
    "## Finding the frauds\n"
   ]
  },
  {
   "cell_type": "code",
   "execution_count": 29,
   "metadata": {
    "colab": {},
    "colab_type": "code",
    "id": "4xd-jb8doTlM"
   },
   "outputs": [],
   "source": [
    "# From the plot, extracting only the people who have commited fraud\n",
    "mappings = som.win_map(X)\n",
    "frauds = np.concatenate((mappings[(1,1)], mappings[(4,1)]), axis = 0)\n",
    "frauds = sc.inverse_transform(frauds)"
   ]
  },
  {
   "cell_type": "markdown",
   "metadata": {
    "colab_type": "text",
    "id": "frXqAlpo84b1"
   },
   "source": [
    "## Printing the Fraunch Clients"
   ]
  },
  {
   "cell_type": "code",
   "execution_count": 30,
   "metadata": {
    "colab": {
     "base_uri": "https://localhost:8080/",
     "height": 544
    },
    "colab_type": "code",
    "id": "54a4NnJo8761",
    "outputId": "1d7ae019-4598-4750-a64f-fdedfdc7fe48"
   },
   "outputs": [
    {
     "name": "stdout",
     "output_type": "stream",
     "text": [
      "Fraud Customer IDs:\n",
      "15608595\n",
      "15719940\n",
      "15761158\n",
      "15711742\n",
      "15761733\n",
      "15770995\n",
      "15666166\n",
      "15605872\n",
      "15736399\n",
      "15766734\n",
      "15667934\n",
      "15665087\n",
      "15726466\n",
      "15692408\n",
      "15694530\n",
      "15763108\n",
      "15723989\n",
      "15730287\n",
      "15720353\n",
      "15728906\n",
      "15736510\n",
      "15708236\n",
      "15686670\n",
      "15736420\n",
      "15765093\n",
      "15737542\n",
      "15748691\n",
      "15748986\n",
      "15727811\n"
     ]
    }
   ],
   "source": [
    "print('Fraud Customer IDs:')\n",
    "for i in frauds[:, 0]:\n",
    "    print(int(i))"
   ]
  },
  {
   "cell_type": "markdown",
   "metadata": {},
   "source": [
    "### Inference: In this way we can recognise the incorrectly classified data. That is the people whose credit cards should have been rejected are accepted and thus commiting fraud."
   ]
  }
 ],
 "metadata": {
  "colab": {
   "collapsed_sections": [],
   "name": "SOM.ipynb",
   "provenance": [],
   "toc_visible": true
  },
  "kernelspec": {
   "display_name": "Python 3",
   "language": "python",
   "name": "python3"
  },
  "language_info": {
   "codemirror_mode": {
    "name": "ipython",
    "version": 3
   },
   "file_extension": ".py",
   "mimetype": "text/x-python",
   "name": "python",
   "nbconvert_exporter": "python",
   "pygments_lexer": "ipython3",
   "version": "3.6.13"
  }
 },
 "nbformat": 4,
 "nbformat_minor": 1
}
