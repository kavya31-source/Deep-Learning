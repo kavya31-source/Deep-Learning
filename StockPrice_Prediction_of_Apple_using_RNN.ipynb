{
 "cells": [
  {
   "cell_type": "markdown",
   "id": "53ea9a8e",
   "metadata": {},
   "source": [
    "#### Problem Statement:"
   ]
  },
  {
   "cell_type": "markdown",
   "id": "0615f2a6",
   "metadata": {},
   "source": [
    "To predict the stock price of Apple for the year 2021."
   ]
  },
  {
   "cell_type": "markdown",
   "id": "7648b244",
   "metadata": {},
   "source": [
    "#### Import Libraries:"
   ]
  },
  {
   "cell_type": "code",
   "execution_count": 18,
   "id": "5ea208ad",
   "metadata": {},
   "outputs": [],
   "source": [
    "import pandas as pd\n",
    "import numpy as np\n",
    "import matplotlib.pyplot as plt\n",
    "from datetime import datetime,timedelta\n",
    "from sklearn.preprocessing import MinMaxScaler\n",
    "from keras.models import Sequential\n",
    "from keras.layers import Dense\n",
    "from keras.layers import LSTM\n",
    "from keras.layers import Dropout\n",
    "from sklearn.metrics import mean_squared_error"
   ]
  },
  {
   "cell_type": "markdown",
   "id": "d8569e2a",
   "metadata": {},
   "source": [
    "#### Loading Data:"
   ]
  },
  {
   "cell_type": "code",
   "execution_count": 2,
   "id": "336054b5",
   "metadata": {},
   "outputs": [],
   "source": [
    "data=pd.read_excel(\"D:/MTech-DSML/DATA/RNN-Apple_Main.xlsx\",parse_dates=['Date'])\n",
    "data.set_index(['Date'],inplace=True)"
   ]
  },
  {
   "cell_type": "code",
   "execution_count": 3,
   "id": "1661f3d9",
   "metadata": {},
   "outputs": [
    {
     "data": {
      "text/plain": [
       "(1600, 5)"
      ]
     },
     "execution_count": 3,
     "metadata": {},
     "output_type": "execute_result"
    }
   ],
   "source": [
    "data.shape"
   ]
  },
  {
   "cell_type": "code",
   "execution_count": 4,
   "id": "6c478f4c",
   "metadata": {},
   "outputs": [
    {
     "data": {
      "text/html": [
       "<div>\n",
       "<style scoped>\n",
       "    .dataframe tbody tr th:only-of-type {\n",
       "        vertical-align: middle;\n",
       "    }\n",
       "\n",
       "    .dataframe tbody tr th {\n",
       "        vertical-align: top;\n",
       "    }\n",
       "\n",
       "    .dataframe thead th {\n",
       "        text-align: right;\n",
       "    }\n",
       "</style>\n",
       "<table border=\"1\" class=\"dataframe\">\n",
       "  <thead>\n",
       "    <tr style=\"text-align: right;\">\n",
       "      <th></th>\n",
       "      <th>Open</th>\n",
       "      <th>High</th>\n",
       "      <th>Low</th>\n",
       "      <th>Close</th>\n",
       "      <th>Volume</th>\n",
       "    </tr>\n",
       "    <tr>\n",
       "      <th>Date</th>\n",
       "      <th></th>\n",
       "      <th></th>\n",
       "      <th></th>\n",
       "      <th></th>\n",
       "      <th></th>\n",
       "    </tr>\n",
       "  </thead>\n",
       "  <tbody>\n",
       "    <tr>\n",
       "      <th>2015-01-02 00:00:00</th>\n",
       "      <td>27.85</td>\n",
       "      <td>27.86</td>\n",
       "      <td>26.84</td>\n",
       "      <td>27.33</td>\n",
       "      <td>53204626</td>\n",
       "    </tr>\n",
       "    <tr>\n",
       "      <th>2015-01-05 16:00:00</th>\n",
       "      <td>27.07</td>\n",
       "      <td>27.16</td>\n",
       "      <td>26.35</td>\n",
       "      <td>26.56</td>\n",
       "      <td>64285491</td>\n",
       "    </tr>\n",
       "    <tr>\n",
       "      <th>2015-01-06 16:00:00</th>\n",
       "      <td>26.64</td>\n",
       "      <td>26.86</td>\n",
       "      <td>26.16</td>\n",
       "      <td>26.57</td>\n",
       "      <td>65797116</td>\n",
       "    </tr>\n",
       "    <tr>\n",
       "      <th>2015-01-07 16:00:00</th>\n",
       "      <td>26.80</td>\n",
       "      <td>27.05</td>\n",
       "      <td>26.67</td>\n",
       "      <td>26.94</td>\n",
       "      <td>40105934</td>\n",
       "    </tr>\n",
       "    <tr>\n",
       "      <th>2015-01-08 16:00:00</th>\n",
       "      <td>27.31</td>\n",
       "      <td>28.04</td>\n",
       "      <td>27.18</td>\n",
       "      <td>27.97</td>\n",
       "      <td>59364547</td>\n",
       "    </tr>\n",
       "  </tbody>\n",
       "</table>\n",
       "</div>"
      ],
      "text/plain": [
       "                      Open   High    Low  Close    Volume\n",
       "Date                                                     \n",
       "2015-01-02 00:00:00  27.85  27.86  26.84  27.33  53204626\n",
       "2015-01-05 16:00:00  27.07  27.16  26.35  26.56  64285491\n",
       "2015-01-06 16:00:00  26.64  26.86  26.16  26.57  65797116\n",
       "2015-01-07 16:00:00  26.80  27.05  26.67  26.94  40105934\n",
       "2015-01-08 16:00:00  27.31  28.04  27.18  27.97  59364547"
      ]
     },
     "execution_count": 4,
     "metadata": {},
     "output_type": "execute_result"
    }
   ],
   "source": [
    "# Top 5\n",
    "data.head()"
   ]
  },
  {
   "cell_type": "code",
   "execution_count": 5,
   "id": "c913f580",
   "metadata": {},
   "outputs": [
    {
     "data": {
      "text/html": [
       "<div>\n",
       "<style scoped>\n",
       "    .dataframe tbody tr th:only-of-type {\n",
       "        vertical-align: middle;\n",
       "    }\n",
       "\n",
       "    .dataframe tbody tr th {\n",
       "        vertical-align: top;\n",
       "    }\n",
       "\n",
       "    .dataframe thead th {\n",
       "        text-align: right;\n",
       "    }\n",
       "</style>\n",
       "<table border=\"1\" class=\"dataframe\">\n",
       "  <thead>\n",
       "    <tr style=\"text-align: right;\">\n",
       "      <th></th>\n",
       "      <th>Open</th>\n",
       "      <th>High</th>\n",
       "      <th>Low</th>\n",
       "      <th>Close</th>\n",
       "      <th>Volume</th>\n",
       "    </tr>\n",
       "    <tr>\n",
       "      <th>Date</th>\n",
       "      <th></th>\n",
       "      <th></th>\n",
       "      <th></th>\n",
       "      <th></th>\n",
       "      <th></th>\n",
       "    </tr>\n",
       "  </thead>\n",
       "  <tbody>\n",
       "    <tr>\n",
       "      <th>2021-05-05 16:00:00</th>\n",
       "      <td>129.20</td>\n",
       "      <td>130.45</td>\n",
       "      <td>127.97</td>\n",
       "      <td>128.10</td>\n",
       "      <td>84000900</td>\n",
       "    </tr>\n",
       "    <tr>\n",
       "      <th>2021-05-06 16:00:00</th>\n",
       "      <td>127.89</td>\n",
       "      <td>129.75</td>\n",
       "      <td>127.13</td>\n",
       "      <td>129.74</td>\n",
       "      <td>78128334</td>\n",
       "    </tr>\n",
       "    <tr>\n",
       "      <th>2021-05-07 16:00:00</th>\n",
       "      <td>130.85</td>\n",
       "      <td>131.26</td>\n",
       "      <td>129.48</td>\n",
       "      <td>130.21</td>\n",
       "      <td>78973273</td>\n",
       "    </tr>\n",
       "    <tr>\n",
       "      <th>2021-05-10 16:00:00</th>\n",
       "      <td>129.41</td>\n",
       "      <td>129.54</td>\n",
       "      <td>126.81</td>\n",
       "      <td>126.85</td>\n",
       "      <td>88071229</td>\n",
       "    </tr>\n",
       "    <tr>\n",
       "      <th>2021-05-11 16:00:00</th>\n",
       "      <td>123.50</td>\n",
       "      <td>126.27</td>\n",
       "      <td>122.77</td>\n",
       "      <td>125.91</td>\n",
       "      <td>126142826</td>\n",
       "    </tr>\n",
       "  </tbody>\n",
       "</table>\n",
       "</div>"
      ],
      "text/plain": [
       "                       Open    High     Low   Close     Volume\n",
       "Date                                                          \n",
       "2021-05-05 16:00:00  129.20  130.45  127.97  128.10   84000900\n",
       "2021-05-06 16:00:00  127.89  129.75  127.13  129.74   78128334\n",
       "2021-05-07 16:00:00  130.85  131.26  129.48  130.21   78973273\n",
       "2021-05-10 16:00:00  129.41  129.54  126.81  126.85   88071229\n",
       "2021-05-11 16:00:00  123.50  126.27  122.77  125.91  126142826"
      ]
     },
     "execution_count": 5,
     "metadata": {},
     "output_type": "execute_result"
    }
   ],
   "source": [
    "# Last 5\n",
    "data.tail()"
   ]
  },
  {
   "cell_type": "code",
   "execution_count": 6,
   "id": "9c69f566",
   "metadata": {},
   "outputs": [
    {
     "name": "stdout",
     "output_type": "stream",
     "text": [
      "Train shape: (1571, 5)\n",
      "Test shape: (27, 5)\n"
     ]
    }
   ],
   "source": [
    "# Splitting Data into train & test\n",
    "train_end=datetime(2021,3,31)\n",
    "test_end=datetime(2021,5,11)\n",
    "train_data = data[:train_end] \n",
    "test_data  = data[train_end + timedelta(days=1):test_end]\n",
    "print(\"Train shape:\",train_data.shape)\n",
    "print(\"Test shape:\",test_data.shape)"
   ]
  },
  {
   "cell_type": "markdown",
   "id": "ec6cabb3",
   "metadata": {},
   "source": [
    "#### Feature Scaling:"
   ]
  },
  {
   "cell_type": "code",
   "execution_count": 7,
   "id": "e7d32a96",
   "metadata": {},
   "outputs": [],
   "source": [
    "train=train_data.iloc[:, 1:2].values\n",
    "sc = MinMaxScaler(feature_range = (0, 1))\n",
    "train_scaled = sc.fit_transform(train)"
   ]
  },
  {
   "cell_type": "markdown",
   "id": "916053b8",
   "metadata": {},
   "source": [
    "#### Creating a data structure with 60 timesteps and 1 output :"
   ]
  },
  {
   "cell_type": "code",
   "execution_count": 8,
   "id": "7a1a803b",
   "metadata": {},
   "outputs": [],
   "source": [
    "X_train = []\n",
    "y_train = []\n",
    "for i in range(60, 1571):\n",
    "    X_train.append(train_scaled[i-60:i, 0])\n",
    "    y_train.append(train_scaled[i, 0])\n",
    "X_train, y_train = np.array(X_train), np.array(y_train)"
   ]
  },
  {
   "cell_type": "markdown",
   "id": "cea8b291",
   "metadata": {},
   "source": [
    "#### Reshape:"
   ]
  },
  {
   "cell_type": "code",
   "execution_count": 9,
   "id": "1914b13a",
   "metadata": {},
   "outputs": [],
   "source": [
    "X_train = np.reshape(X_train, (X_train.shape[0], X_train.shape[1], 1))"
   ]
  },
  {
   "cell_type": "markdown",
   "id": "dd0ac474",
   "metadata": {},
   "source": [
    "#### Building RNN Model:"
   ]
  },
  {
   "cell_type": "code",
   "execution_count": 10,
   "id": "6e38648b",
   "metadata": {},
   "outputs": [],
   "source": [
    "# Initialising RNN\n",
    "regressor = Sequential()\n",
    "\n",
    "#Adding the first LSTM layer and some Dropout regularisation\n",
    "regressor.add(LSTM(units = 50, return_sequences = True, input_shape = (X_train.shape[1], 1)))\n",
    "regressor.add(Dropout(0.2))\n",
    "\n",
    "#Adding a second LSTM layer and some Dropout regularisation\n",
    "regressor.add(LSTM(units = 50, return_sequences = True))\n",
    "regressor.add(Dropout(0.2))\n",
    "\n",
    "#Adding a third LSTM layer and some Dropout regularisation\n",
    "regressor.add(LSTM(units = 50, return_sequences = True))\n",
    "regressor.add(Dropout(0.2))\n",
    "\n",
    "#Adding a fourth LSTM layer and some Dropout regularisation\n",
    "regressor.add(LSTM(units = 50))\n",
    "regressor.add(Dropout(0.2))\n",
    "\n",
    "#Adding the output layer\n",
    "regressor.add(Dense(units = 1))"
   ]
  },
  {
   "cell_type": "markdown",
   "id": "98f94633",
   "metadata": {},
   "source": [
    "#### Compile the model :"
   ]
  },
  {
   "cell_type": "code",
   "execution_count": 11,
   "id": "804cc6c3",
   "metadata": {},
   "outputs": [],
   "source": [
    "regressor.compile(optimizer = 'adam', loss = 'mean_squared_error')"
   ]
  },
  {
   "cell_type": "markdown",
   "id": "ef03f924",
   "metadata": {},
   "source": [
    "#### Fitting the RNN to the Training set:"
   ]
  },
  {
   "cell_type": "code",
   "execution_count": 12,
   "id": "b0d2eb55",
   "metadata": {
    "scrolled": true
   },
   "outputs": [
    {
     "name": "stdout",
     "output_type": "stream",
     "text": [
      "Epoch 1/100\n",
      "48/48 [==============================] - 20s 55ms/step - loss: 0.0255\n",
      "Epoch 2/100\n",
      "48/48 [==============================] - 3s 55ms/step - loss: 0.0021\n",
      "Epoch 3/100\n",
      "48/48 [==============================] - 3s 56ms/step - loss: 0.0020\n",
      "Epoch 4/100\n",
      "48/48 [==============================] - 3s 58ms/step - loss: 0.0022\n",
      "Epoch 5/100\n",
      "48/48 [==============================] - 3s 58ms/step - loss: 0.0023\n",
      "Epoch 6/100\n",
      "48/48 [==============================] - 3s 58ms/step - loss: 0.0019\n",
      "Epoch 7/100\n",
      "48/48 [==============================] - 3s 57ms/step - loss: 0.0019\n",
      "Epoch 8/100\n",
      "48/48 [==============================] - 3s 58ms/step - loss: 0.0021\n",
      "Epoch 9/100\n",
      "48/48 [==============================] - 3s 58ms/step - loss: 0.0027\n",
      "Epoch 10/100\n",
      "48/48 [==============================] - 3s 58ms/step - loss: 0.0017\n",
      "Epoch 11/100\n",
      "48/48 [==============================] - 3s 59ms/step - loss: 0.0023\n",
      "Epoch 12/100\n",
      "48/48 [==============================] - 3s 58ms/step - loss: 0.0015\n",
      "Epoch 13/100\n",
      "48/48 [==============================] - 3s 58ms/step - loss: 0.0019\n",
      "Epoch 14/100\n",
      "48/48 [==============================] - 3s 61ms/step - loss: 0.0015\n",
      "Epoch 15/100\n",
      "48/48 [==============================] - 3s 58ms/step - loss: 0.0015\n",
      "Epoch 16/100\n",
      "48/48 [==============================] - 3s 58ms/step - loss: 0.0014\n",
      "Epoch 17/100\n",
      "48/48 [==============================] - 3s 58ms/step - loss: 0.0014\n",
      "Epoch 18/100\n",
      "48/48 [==============================] - 3s 58ms/step - loss: 0.0014\n",
      "Epoch 19/100\n",
      "48/48 [==============================] - 3s 58ms/step - loss: 0.0012\n",
      "Epoch 20/100\n",
      "48/48 [==============================] - 3s 58ms/step - loss: 0.0013\n",
      "Epoch 21/100\n",
      "48/48 [==============================] - 3s 58ms/step - loss: 0.0013\n",
      "Epoch 22/100\n",
      "48/48 [==============================] - 3s 58ms/step - loss: 0.0012\n",
      "Epoch 23/100\n",
      "48/48 [==============================] - 3s 58ms/step - loss: 0.0018\n",
      "Epoch 24/100\n",
      "48/48 [==============================] - 3s 57ms/step - loss: 0.0018\n",
      "Epoch 25/100\n",
      "48/48 [==============================] - 3s 58ms/step - loss: 0.0014\n",
      "Epoch 26/100\n",
      "48/48 [==============================] - 3s 57ms/step - loss: 0.0015\n",
      "Epoch 27/100\n",
      "48/48 [==============================] - 3s 60ms/step - loss: 0.0016\n",
      "Epoch 28/100\n",
      "48/48 [==============================] - 3s 65ms/step - loss: 0.0011\n",
      "Epoch 29/100\n",
      "48/48 [==============================] - 3s 67ms/step - loss: 0.0012\n",
      "Epoch 30/100\n",
      "48/48 [==============================] - 3s 68ms/step - loss: 0.0017\n",
      "Epoch 31/100\n",
      "48/48 [==============================] - 3s 71ms/step - loss: 0.0011\n",
      "Epoch 32/100\n",
      "48/48 [==============================] - 3s 60ms/step - loss: 0.0010\n",
      "Epoch 33/100\n",
      "48/48 [==============================] - 3s 58ms/step - loss: 0.0014\n",
      "Epoch 34/100\n",
      "48/48 [==============================] - 3s 58ms/step - loss: 9.5961e-04\n",
      "Epoch 35/100\n",
      "48/48 [==============================] - 3s 57ms/step - loss: 0.0012\n",
      "Epoch 36/100\n",
      "48/48 [==============================] - 3s 57ms/step - loss: 0.0010\n",
      "Epoch 37/100\n",
      "48/48 [==============================] - 3s 57ms/step - loss: 0.0011\n",
      "Epoch 38/100\n",
      "48/48 [==============================] - 3s 56ms/step - loss: 9.2032e-04\n",
      "Epoch 39/100\n",
      "48/48 [==============================] - 3s 56ms/step - loss: 0.0011\n",
      "Epoch 40/100\n",
      "48/48 [==============================] - 3s 56ms/step - loss: 0.0011\n",
      "Epoch 41/100\n",
      "48/48 [==============================] - 3s 56ms/step - loss: 0.0011\n",
      "Epoch 42/100\n",
      "48/48 [==============================] - 3s 60ms/step - loss: 0.0014\n",
      "Epoch 43/100\n",
      "48/48 [==============================] - 3s 59ms/step - loss: 7.0105e-04\n",
      "Epoch 44/100\n",
      "48/48 [==============================] - 3s 56ms/step - loss: 0.0011\n",
      "Epoch 45/100\n",
      "48/48 [==============================] - 3s 57ms/step - loss: 0.0011\n",
      "Epoch 46/100\n",
      "48/48 [==============================] - 3s 56ms/step - loss: 9.9833e-04\n",
      "Epoch 47/100\n",
      "48/48 [==============================] - 3s 57ms/step - loss: 0.0012\n",
      "Epoch 48/100\n",
      "48/48 [==============================] - 3s 56ms/step - loss: 0.0010\n",
      "Epoch 49/100\n",
      "48/48 [==============================] - 3s 57ms/step - loss: 0.0011\n",
      "Epoch 50/100\n",
      "48/48 [==============================] - 3s 56ms/step - loss: 9.1408e-04\n",
      "Epoch 51/100\n",
      "48/48 [==============================] - 3s 57ms/step - loss: 9.1114e-04\n",
      "Epoch 52/100\n",
      "48/48 [==============================] - 3s 57ms/step - loss: 9.8943e-04\n",
      "Epoch 53/100\n",
      "48/48 [==============================] - 3s 57ms/step - loss: 9.8257e-04\n",
      "Epoch 54/100\n",
      "48/48 [==============================] - 3s 57ms/step - loss: 8.7496e-04\n",
      "Epoch 55/100\n",
      "48/48 [==============================] - 3s 57ms/step - loss: 0.0011\n",
      "Epoch 56/100\n",
      "48/48 [==============================] - 3s 57ms/step - loss: 0.0010\n",
      "Epoch 57/100\n",
      "48/48 [==============================] - 3s 57ms/step - loss: 9.3855e-04\n",
      "Epoch 58/100\n",
      "48/48 [==============================] - 3s 57ms/step - loss: 7.7324e-04\n",
      "Epoch 59/100\n",
      "48/48 [==============================] - 3s 57ms/step - loss: 9.3580e-04\n",
      "Epoch 60/100\n",
      "48/48 [==============================] - 3s 56ms/step - loss: 9.2413e-04\n",
      "Epoch 61/100\n",
      "48/48 [==============================] - 3s 56ms/step - loss: 0.0010\n",
      "Epoch 62/100\n",
      "48/48 [==============================] - 3s 57ms/step - loss: 8.0160e-04\n",
      "Epoch 63/100\n",
      "48/48 [==============================] - 3s 57ms/step - loss: 8.8641e-04\n",
      "Epoch 64/100\n",
      "48/48 [==============================] - 3s 57ms/step - loss: 9.8780e-04\n",
      "Epoch 65/100\n",
      "48/48 [==============================] - 3s 57ms/step - loss: 8.3822e-04\n",
      "Epoch 66/100\n",
      "48/48 [==============================] - 3s 57ms/step - loss: 9.1878e-04\n",
      "Epoch 67/100\n",
      "48/48 [==============================] - 3s 57ms/step - loss: 7.2600e-04\n",
      "Epoch 68/100\n",
      "48/48 [==============================] - 3s 57ms/step - loss: 8.1522e-04\n",
      "Epoch 69/100\n",
      "48/48 [==============================] - 3s 57ms/step - loss: 9.5476e-04\n",
      "Epoch 70/100\n",
      "48/48 [==============================] - 3s 59ms/step - loss: 7.2809e-04\n",
      "Epoch 71/100\n",
      "48/48 [==============================] - 3s 66ms/step - loss: 0.0012\n",
      "Epoch 72/100\n",
      "48/48 [==============================] - 3s 64ms/step - loss: 9.7385e-04\n",
      "Epoch 73/100\n",
      "48/48 [==============================] - 3s 64ms/step - loss: 0.0013\n",
      "Epoch 74/100\n",
      "48/48 [==============================] - 3s 70ms/step - loss: 0.0011\n",
      "Epoch 75/100\n",
      "48/48 [==============================] - 3s 59ms/step - loss: 0.0010\n",
      "Epoch 76/100\n",
      "48/48 [==============================] - 3s 58ms/step - loss: 8.9710e-04\n",
      "Epoch 77/100\n",
      "48/48 [==============================] - 3s 57ms/step - loss: 7.7954e-04\n",
      "Epoch 78/100\n",
      "48/48 [==============================] - 3s 57ms/step - loss: 7.8050e-04\n",
      "Epoch 79/100\n",
      "48/48 [==============================] - 3s 58ms/step - loss: 6.5876e-04\n",
      "Epoch 80/100\n",
      "48/48 [==============================] - 3s 57ms/step - loss: 9.1774e-04\n",
      "Epoch 81/100\n",
      "48/48 [==============================] - 3s 57ms/step - loss: 7.2830e-04\n",
      "Epoch 82/100\n",
      "48/48 [==============================] - 3s 58ms/step - loss: 9.0137e-04\n",
      "Epoch 83/100\n",
      "48/48 [==============================] - 3s 57ms/step - loss: 8.5102e-04\n",
      "Epoch 84/100\n",
      "48/48 [==============================] - 3s 57ms/step - loss: 7.6049e-04\n",
      "Epoch 85/100\n",
      "48/48 [==============================] - 3s 58ms/step - loss: 8.7083e-04\n",
      "Epoch 86/100\n",
      "48/48 [==============================] - 3s 57ms/step - loss: 7.7040e-04\n",
      "Epoch 87/100\n",
      "48/48 [==============================] - 3s 57ms/step - loss: 8.7630e-04\n",
      "Epoch 88/100\n",
      "48/48 [==============================] - 3s 57ms/step - loss: 9.8370e-04\n",
      "Epoch 89/100\n",
      "48/48 [==============================] - 3s 57ms/step - loss: 8.6661e-04\n",
      "Epoch 90/100\n",
      "48/48 [==============================] - 3s 57ms/step - loss: 7.8323e-04\n",
      "Epoch 91/100\n",
      "48/48 [==============================] - 3s 58ms/step - loss: 7.6847e-04\n",
      "Epoch 92/100\n",
      "48/48 [==============================] - 3s 57ms/step - loss: 8.3145e-04\n",
      "Epoch 93/100\n",
      "48/48 [==============================] - 3s 58ms/step - loss: 7.5693e-04\n",
      "Epoch 94/100\n",
      "48/48 [==============================] - 3s 58ms/step - loss: 7.6881e-04\n",
      "Epoch 95/100\n",
      "48/48 [==============================] - 3s 57ms/step - loss: 0.0011\n",
      "Epoch 96/100\n",
      "48/48 [==============================] - 3s 58ms/step - loss: 7.6035e-04\n",
      "Epoch 97/100\n",
      "48/48 [==============================] - 3s 58ms/step - loss: 6.9454e-04\n",
      "Epoch 98/100\n"
     ]
    },
    {
     "name": "stdout",
     "output_type": "stream",
     "text": [
      "48/48 [==============================] - 3s 56ms/step - loss: 7.2853e-04\n",
      "Epoch 99/100\n",
      "48/48 [==============================] - 3s 56ms/step - loss: 6.3186e-04\n",
      "Epoch 100/100\n",
      "48/48 [==============================] - 3s 56ms/step - loss: 6.1937e-04\n"
     ]
    },
    {
     "data": {
      "text/plain": [
       "<keras.callbacks.History at 0x15e2c56c9e8>"
      ]
     },
     "execution_count": 12,
     "metadata": {},
     "output_type": "execute_result"
    }
   ],
   "source": [
    "regressor.fit(X_train, y_train, epochs = 100, batch_size = 32)"
   ]
  },
  {
   "cell_type": "markdown",
   "id": "fea289cd",
   "metadata": {},
   "source": [
    "#### The real stock price:"
   ]
  },
  {
   "cell_type": "code",
   "execution_count": 13,
   "id": "ad93443b",
   "metadata": {},
   "outputs": [],
   "source": [
    "real_stock_price =test_data.iloc[:, 1:2].values"
   ]
  },
  {
   "cell_type": "markdown",
   "id": "09b7d7e2",
   "metadata": {},
   "source": [
    "#### The predicted stock price:"
   ]
  },
  {
   "cell_type": "code",
   "execution_count": 14,
   "id": "14591af4",
   "metadata": {},
   "outputs": [],
   "source": [
    "dataset_total = pd.concat((train_data['Open'],test_data['Open']), axis = 0)\n",
    "inputs = dataset_total[len(dataset_total) - len(test_data) - 60:].values\n",
    "inputs = inputs.reshape(-1,1)\n",
    "inputs = sc.transform(inputs)\n",
    "X_test = []\n",
    "for i in range(60, 87):\n",
    "    X_test.append(inputs[i-60:i, 0])\n",
    "X_test = np.array(X_test)\n",
    "X_test = np.reshape(X_test, (X_test.shape[0], X_test.shape[1], 1))\n",
    "predicted_stock_price = regressor.predict(X_test)\n",
    "predicted_stock_price = sc.inverse_transform(predicted_stock_price)"
   ]
  },
  {
   "cell_type": "markdown",
   "id": "6f1db6e2",
   "metadata": {},
   "source": [
    "#### Visualising the results:"
   ]
  },
  {
   "cell_type": "code",
   "execution_count": 17,
   "id": "5a452812",
   "metadata": {
    "scrolled": true
   },
   "outputs": [
    {
     "data": {
      "image/png": "[encoded data removed]",
      "text/plain": [
       "<Figure size 720x360 with 1 Axes>"
      ]
     },
     "metadata": {
      "needs_background": "light"
     },
     "output_type": "display_data"
    }
   ],
   "source": [
    "plt.figure(figsize=(10,5))\n",
    "plt.plot(real_stock_price, color = 'red', label = 'Real Apple Stock Price')\n",
    "plt.plot(predicted_stock_price, color = 'blue', label = 'Predicted Apple Stock Price')\n",
    "plt.title('Apple Stock Price Prediction')\n",
    "plt.xlabel('Time')\n",
    "plt.ylabel('Apple Stock Price')\n",
    "plt.legend()\n",
    "plt.show()"
   ]
  },
  {
   "cell_type": "code",
   "execution_count": 24,
   "id": "54913cec",
   "metadata": {},
   "outputs": [
    {
     "name": "stdout",
     "output_type": "stream",
     "text": [
      "Mse of test data 5.858343132998935\n"
     ]
    }
   ],
   "source": [
    "rmse=mean_squared_error(real_stock_price,predicted_stock_price,squared=False)\n",
    "print(\"Mse of test data\",mse)"
   ]
  },
  {
   "cell_type": "markdown",
   "id": "ea4b2893",
   "metadata": {},
   "source": [
    "#### Conclusion:"
   ]
  },
  {
   "cell_type": "markdown",
   "id": "d6707277",
   "metadata": {},
   "source": [
    "- The rmse obtained on test data is 5.8 which is a good score.\n",
    "- The mdoel built gives a very low loss.\n",
    "- As per the results plotted, the predicted values are pretty close to the actual value of the stock price."
   ]
  },
  {
   "cell_type": "code",
   "execution_count": null,
   "id": "1a66ff8f",
   "metadata": {},
   "outputs": [],
   "source": []
  }
 ],
 "metadata": {
  "kernelspec": {
   "display_name": "Python 3",
   "language": "python",
   "name": "python3"
  },
  "language_info": {
   "codemirror_mode": {
    "name": "ipython",
    "version": 3
   },
   "file_extension": ".py",
   "mimetype": "text/x-python",
   "name": "python",
   "nbconvert_exporter": "python",
   "pygments_lexer": "ipython3",
   "version": "3.6.13"
  }
 },
 "nbformat": 4,
 "nbformat_minor": 5
}
