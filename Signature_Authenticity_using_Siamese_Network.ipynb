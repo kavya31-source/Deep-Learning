{
 "cells": [
  {
   "cell_type": "markdown",
   "id": "cf95b533",
   "metadata": {},
   "source": [
    "#### Problem Statement:"
   ]
  },
  {
   "cell_type": "markdown",
   "id": "7803bd0b",
   "metadata": {},
   "source": [
    "In order to differentiate between original and forged signatures a Siamese network was built which gives the similarity scores between pairs of signature images which are compared with each other to ensure authenticity."
   ]
  },
  {
   "cell_type": "markdown",
   "id": "c3a82f89",
   "metadata": {},
   "source": [
    "#### Import Required Libraries:"
   ]
  },
  {
   "cell_type": "code",
   "execution_count": 1,
   "id": "004f59db",
   "metadata": {},
   "outputs": [],
   "source": [
    "from tensorflow.keras.applications import VGG16\n",
    "from tensorflow.keras.applications.vgg16 import preprocess_input\n",
    "from tensorflow.keras.layers import Input,GlobalAveragePooling2D,Dense,Lambda\n",
    "from tensorflow.keras import Model\n",
    "import os\n",
    "import numpy as np\n",
    "import matplotlib.pyplot as plt\n",
    "import tensorflow.keras.backend as K\n",
    "from tensorflow.keras.preprocessing.image import ImageDataGenerator\n",
    "import split_folders\n",
    "import cv2\n",
    "from tensorflow.keras.preprocessing import image_dataset_from_directory\n",
    "import math"
   ]
  },
  {
   "cell_type": "markdown",
   "id": "a4f15c51",
   "metadata": {},
   "source": [
    "#### Building the model using VGG16"
   ]
  },
  {
   "cell_type": "code",
   "execution_count": 2,
   "id": "e10a1bc9",
   "metadata": {},
   "outputs": [
    {
     "name": "stdout",
     "output_type": "stream",
     "text": [
      "Model: \"model\"\n",
      "_________________________________________________________________\n",
      "Layer (type)                 Output Shape              Param #   \n",
      "=================================================================\n",
      "input_1 (InputLayer)         [(None, 64, 64, 3)]       0         \n",
      "_________________________________________________________________\n",
      "vgg16 (Functional)           (None, 2, 2, 512)         14714688  \n",
      "_________________________________________________________________\n",
      "global_average_pooling2d (Gl (None, 512)               0         \n",
      "_________________________________________________________________\n",
      "dense (Dense)                (None, 64)                32832     \n",
      "=================================================================\n",
      "Total params: 14,747,520\n",
      "Trainable params: 32,832\n",
      "Non-trainable params: 14,714,688\n",
      "_________________________________________________________________\n"
     ]
    }
   ],
   "source": [
    "# Defining a function to build the network architecture\n",
    "def build_siamese_model(input_shape,embedding_dim,fine_tune=False):\n",
    "    inputs=Input(input_shape)\n",
    "    preprocess_func=preprocess_input\n",
    "    base_model=VGG16(input_shape=input_shape,include_top=False)\n",
    "    \n",
    "    \n",
    "    # Training only the newly added Dense layers and freezing the rest of the layers\n",
    "    if fine_tune==False:\n",
    "        base_model.trainable=False\n",
    "        print(base_model.layers)\n",
    "    else:\n",
    "        base_model.trainable=True\n",
    "        \n",
    "        # Tune the model from this layer\n",
    "        fine_tune_from=len(base_model.layers)-1\n",
    "        \n",
    "        # Freezing all layers befor fine_tune\n",
    "        for layer in base_model.layers[:fine_tune_from]:\n",
    "            layer.trainable=False\n",
    "            \n",
    "    # Assigning new layers to the model to be trained\n",
    "    x=base_model(inputs)\n",
    "    x=GlobalAveragePooling2D()(x)\n",
    "    output=Dense(embedding_dim)(x)\n",
    "    model=Model(inputs,output)\n",
    "    \n",
    "    return model\n",
    "\n",
    "model=build_siamese_model((64,64,3),64,True)\n",
    "model.summary()\n",
    "        "
   ]
  },
  {
   "cell_type": "markdown",
   "id": "a91ce152",
   "metadata": {},
   "source": [
    "#### Creating Image pairs:"
   ]
  },
  {
   "cell_type": "code",
   "execution_count": 3,
   "id": "9b53f17f",
   "metadata": {},
   "outputs": [],
   "source": [
    "def create_pairs(images,labels):\n",
    "    #Initialize 2 empty lists to hold pairs or images and lables to indiacte if the pair is positive(same) or negative (different)\n",
    "    pairImages=[]\n",
    "    pairLabels=[]\n",
    "    \n",
    "    #Total classes present in the dataset\n",
    "    num_class=len(np.unique(labels))\n",
    "    #Obtaining indexes of a given label\n",
    "    idx=[np.where(labels==i)[0] for i in range(0,num_class)]\n",
    "    \n",
    "    for index in range(len(images)):\n",
    "        #get image and label of the iteration\n",
    "        curr_image=images[index]\n",
    "        label=labels[index]\n",
    "        \n",
    "        #Randomly choose image belonging to same class\n",
    "        index_rand=np.random.choice(idx[label])\n",
    "        pos_image=images[index_rand]\n",
    "        \n",
    "        #Make positive pair and update the empty lists initialised\n",
    "        pairImages.append([curr_image,pos_image])\n",
    "        pairLabels.append([1])\n",
    "        \n",
    "        #Obtaining indexes of labels not equal to current label and its corresponding image\n",
    "        neg_idx=np.where(labels !=label)[0]\n",
    "        neg_image=images[np.random.choice(neg_idx)]\n",
    "        \n",
    "        #Make negative pair and update list\n",
    "        pairImages.append([curr_image,neg_image])\n",
    "        pairLabels.append([0])\n",
    "        \n",
    "    return (np.array(pairImages),np.array(pairLabels))"
   ]
  },
  {
   "cell_type": "markdown",
   "id": "1a746fe5",
   "metadata": {},
   "source": [
    "#### Calculating Euclidean Distance:"
   ]
  },
  {
   "cell_type": "code",
   "execution_count": 4,
   "id": "60147e83",
   "metadata": {},
   "outputs": [],
   "source": [
    "def euclidean_distance(vectors):\n",
    "    # unpack the vectors into separate lists\n",
    "    (featsA, featsB) = vectors\n",
    "    # compute the sum of squared distances between the vectors\n",
    "    sumSquared = K.sum(K.square(featsA - featsB), axis=1,\n",
    "                       keepdims=True)\n",
    "    # return the euclidean distance between the vectors\n",
    "    return K.sqrt(K.maximum(sumSquared, K.epsilon()))\n",
    "    "
   ]
  },
  {
   "cell_type": "code",
   "execution_count": 5,
   "id": "93ad358b",
   "metadata": {},
   "outputs": [],
   "source": [
    "from tensorflow.keras.datasets import mnist"
   ]
  },
  {
   "cell_type": "markdown",
   "id": "65d64ef5",
   "metadata": {},
   "source": [
    "#### Loading Data:"
   ]
  },
  {
   "cell_type": "code",
   "execution_count": 6,
   "id": "ceb54405",
   "metadata": {},
   "outputs": [
    {
     "name": "stderr",
     "output_type": "stream",
     "text": [
      "Copying files: 300 files [00:00, 799.70 files/s]\n"
     ]
    }
   ],
   "source": [
    "#Splitting the dataset into Train & Validation sets\n",
    "split_folders.ratio(\"D:/MTech-DSML/Main Projects/Signature Recognition_SiameseNW/sample_Signature/sample_Signature\",\"D:/MTech-DSML/Main Projects/Signature Recognition_SiameseNW/sample_Signature/output\",\n",
    "               seed=1337,\n",
    "    ratio=(0.8, 0.2))"
   ]
  },
  {
   "cell_type": "markdown",
   "id": "0fa6e7af",
   "metadata": {},
   "source": [
    "#### Image Preprocessing:"
   ]
  },
  {
   "cell_type": "markdown",
   "id": "f92518da",
   "metadata": {},
   "source": [
    "#### Train data"
   ]
  },
  {
   "cell_type": "code",
   "execution_count": 7,
   "id": "0744c577",
   "metadata": {},
   "outputs": [
    {
     "name": "stdout",
     "output_type": "stream",
     "text": [
      "Found 240 files belonging to 2 classes.\n"
     ]
    }
   ],
   "source": [
    "data_train=image_dataset_from_directory(\"D:/MTech-DSML/Main Projects/Signature Recognition_SiameseNW/sample_Signature/output/train/\", image_size=(64,64), batch_size=240)"
   ]
  },
  {
   "cell_type": "code",
   "execution_count": 8,
   "id": "8e793ada",
   "metadata": {},
   "outputs": [
    {
     "name": "stdout",
     "output_type": "stream",
     "text": [
      "(240, 64, 64, 3)\n",
      "(240,)\n"
     ]
    }
   ],
   "source": [
    "for data_train, labels_train in data_train.take(1):\n",
    "    print(data_train.shape)\n",
    "    print(labels_train.shape)"
   ]
  },
  {
   "cell_type": "code",
   "execution_count": 9,
   "id": "c514ae2f",
   "metadata": {},
   "outputs": [],
   "source": [
    "# Scaling the train data\n",
    "data_train=data_train/255."
   ]
  },
  {
   "cell_type": "markdown",
   "id": "1d117e77",
   "metadata": {},
   "source": [
    "#### Validation data"
   ]
  },
  {
   "cell_type": "code",
   "execution_count": 10,
   "id": "6db7301b",
   "metadata": {},
   "outputs": [
    {
     "name": "stdout",
     "output_type": "stream",
     "text": [
      "Found 60 files belonging to 2 classes.\n"
     ]
    }
   ],
   "source": [
    "data_val=image_dataset_from_directory(\"D:/MTech-DSML/Main Projects/Signature Recognition_SiameseNW/sample_Signature/output/val/\", image_size=(64,64), batch_size=240)"
   ]
  },
  {
   "cell_type": "code",
   "execution_count": 12,
   "id": "0f23a3dd",
   "metadata": {},
   "outputs": [
    {
     "name": "stdout",
     "output_type": "stream",
     "text": [
      "(60, 64, 64, 3)\n",
      "(60,)\n"
     ]
    }
   ],
   "source": [
    "for data_val, labels_val in data_val.take(1):\n",
    "    print(data_val.shape)\n",
    "    print(labels_val.shape)"
   ]
  },
  {
   "cell_type": "code",
   "execution_count": 13,
   "id": "09fb12fb",
   "metadata": {},
   "outputs": [],
   "source": [
    "# Scaling the validation data\n",
    "data_val=data_val/255."
   ]
  },
  {
   "cell_type": "code",
   "execution_count": 14,
   "id": "2ceafcd3",
   "metadata": {},
   "outputs": [],
   "source": [
    "#Train Data\n",
    "(pairTrain,labelTrain)=create_pairs(data_train,labels_train)"
   ]
  },
  {
   "cell_type": "code",
   "execution_count": 15,
   "id": "44a72d2b",
   "metadata": {},
   "outputs": [],
   "source": [
    "# Validation Data\n",
    "(pairVal,labelVal)=create_pairs(data_val,labels_val)"
   ]
  },
  {
   "cell_type": "markdown",
   "id": "521ad3e8",
   "metadata": {},
   "source": [
    "#### Building a Siamese Network"
   ]
  },
  {
   "cell_type": "code",
   "execution_count": 16,
   "id": "9a5ac4a4",
   "metadata": {},
   "outputs": [
    {
     "name": "stdout",
     "output_type": "stream",
     "text": [
      "[<tensorflow.python.keras.engine.input_layer.InputLayer object at 0x000001F1562039B0>, <tensorflow.python.keras.layers.convolutional.Conv2D object at 0x000001F14C378FD0>, <tensorflow.python.keras.layers.convolutional.Conv2D object at 0x000001F15637B208>, <tensorflow.python.keras.layers.pooling.MaxPooling2D object at 0x000001F156575F98>, <tensorflow.python.keras.layers.convolutional.Conv2D object at 0x000001F15636D0F0>, <tensorflow.python.keras.layers.convolutional.Conv2D object at 0x000001F156567390>, <tensorflow.python.keras.layers.pooling.MaxPooling2D object at 0x000001F1563D0278>, <tensorflow.python.keras.layers.convolutional.Conv2D object at 0x000001F1563D0C18>, <tensorflow.python.keras.layers.convolutional.Conv2D object at 0x000001F1565905C0>, <tensorflow.python.keras.layers.convolutional.Conv2D object at 0x000001F1565B8240>, <tensorflow.python.keras.layers.pooling.MaxPooling2D object at 0x000001F1565A6CF8>, <tensorflow.python.keras.layers.convolutional.Conv2D object at 0x000001F15658ED30>, <tensorflow.python.keras.layers.convolutional.Conv2D object at 0x000001F1565A48D0>, <tensorflow.python.keras.layers.convolutional.Conv2D object at 0x000001F1565C4A20>, <tensorflow.python.keras.layers.pooling.MaxPooling2D object at 0x000001F1565A42B0>, <tensorflow.python.keras.layers.convolutional.Conv2D object at 0x000001F15658E358>, <tensorflow.python.keras.layers.convolutional.Conv2D object at 0x000001F1563C8320>, <tensorflow.python.keras.layers.convolutional.Conv2D object at 0x000001F156567DA0>, <tensorflow.python.keras.layers.pooling.MaxPooling2D object at 0x000001F1565CA710>]\n"
     ]
    }
   ],
   "source": [
    "# Two inputs will pass through the network\n",
    "IMG_SHAPE=(64,64,3)\n",
    "img1 = Input(shape=IMG_SHAPE)\n",
    "img2 = Input( shape=IMG_SHAPE)\n",
    "featureExtractor = build_siamese_model(IMG_SHAPE,64)\n",
    "featsA = featureExtractor(img1)\n",
    "featsB = featureExtractor(img2)"
   ]
  },
  {
   "cell_type": "code",
   "execution_count": 17,
   "id": "a7f27709",
   "metadata": {
    "scrolled": true
   },
   "outputs": [],
   "source": [
    "#The differencing layer to calculate the Euclidian distance between the two sister CNN networks encoding output.\n",
    "distance =Lambda(euclidean_distance)([featsA, featsB])\n",
    "outputs=Dense(1,activation='sigmoid')(distance)\n",
    "model = Model(inputs=[img1, img2], outputs=outputs)"
   ]
  },
  {
   "cell_type": "code",
   "execution_count": 18,
   "id": "903e415f",
   "metadata": {},
   "outputs": [],
   "source": [
    "# Compiling the model\n",
    "model.compile(loss=\"binary_crossentropy\", optimizer=\"adam\", metrics=[\"accuracy\"])"
   ]
  },
  {
   "cell_type": "code",
   "execution_count": 19,
   "id": "a6199314",
   "metadata": {},
   "outputs": [
    {
     "name": "stdout",
     "output_type": "stream",
     "text": [
      "Epoch 1/50\n",
      "15/15 [==============================] - 24s 2s/step - loss: 1.4553 - accuracy: 0.4979 - val_loss: 1.1706 - val_accuracy: 0.4917\n",
      "Epoch 2/50\n",
      "15/15 [==============================] - 23s 2s/step - loss: 1.0280 - accuracy: 0.4979 - val_loss: 0.9912 - val_accuracy: 0.4917\n",
      "Epoch 3/50\n",
      "15/15 [==============================] - 21s 1s/step - loss: 0.8952 - accuracy: 0.4979 - val_loss: 0.9193 - val_accuracy: 0.4917\n",
      "Epoch 4/50\n",
      "15/15 [==============================] - 21s 1s/step - loss: 0.8287 - accuracy: 0.4979 - val_loss: 0.8757 - val_accuracy: 0.4917\n",
      "Epoch 5/50\n",
      "15/15 [==============================] - 21s 1s/step - loss: 0.7879 - accuracy: 0.4979 - val_loss: 0.8488 - val_accuracy: 0.4917\n",
      "Epoch 6/50\n",
      "15/15 [==============================] - 19s 1s/step - loss: 0.7607 - accuracy: 0.4979 - val_loss: 0.8332 - val_accuracy: 0.4917\n",
      "Epoch 7/50\n",
      "15/15 [==============================] - 23s 2s/step - loss: 0.7381 - accuracy: 0.4979 - val_loss: 0.8201 - val_accuracy: 0.4917\n",
      "Epoch 8/50\n",
      "15/15 [==============================] - 24s 2s/step - loss: 0.7234 - accuracy: 0.4979 - val_loss: 0.8117 - val_accuracy: 0.4917\n",
      "Epoch 9/50\n",
      "15/15 [==============================] - 19s 1s/step - loss: 0.7101 - accuracy: 0.4979 - val_loss: 0.8038 - val_accuracy: 0.4917\n",
      "Epoch 10/50\n",
      "15/15 [==============================] - 21s 1s/step - loss: 0.6999 - accuracy: 0.4979 - val_loss: 0.7957 - val_accuracy: 0.4917\n",
      "Epoch 11/50\n",
      "15/15 [==============================] - 21s 1s/step - loss: 0.6905 - accuracy: 0.4979 - val_loss: 0.7923 - val_accuracy: 0.4917\n",
      "Epoch 12/50\n",
      "15/15 [==============================] - 20s 1s/step - loss: 0.6832 - accuracy: 0.4979 - val_loss: 0.7877 - val_accuracy: 0.4917\n",
      "Epoch 13/50\n",
      "15/15 [==============================] - 23s 2s/step - loss: 0.6771 - accuracy: 0.4979 - val_loss: 0.7842 - val_accuracy: 0.4917\n",
      "Epoch 14/50\n",
      "15/15 [==============================] - 22s 2s/step - loss: 0.6706 - accuracy: 0.4979 - val_loss: 0.7829 - val_accuracy: 0.4917\n",
      "Epoch 15/50\n",
      "15/15 [==============================] - 20s 1s/step - loss: 0.6649 - accuracy: 0.4979 - val_loss: 0.7771 - val_accuracy: 0.4917\n",
      "Epoch 16/50\n",
      "15/15 [==============================] - 21s 1s/step - loss: 0.6599 - accuracy: 0.4979 - val_loss: 0.7762 - val_accuracy: 0.4917\n",
      "Epoch 17/50\n",
      "15/15 [==============================] - 20s 1s/step - loss: 0.6547 - accuracy: 0.4979 - val_loss: 0.7734 - val_accuracy: 0.4917\n",
      "Epoch 18/50\n",
      "15/15 [==============================] - 22s 1s/step - loss: 0.6507 - accuracy: 0.4979 - val_loss: 0.7718 - val_accuracy: 0.4917\n",
      "Epoch 19/50\n",
      "15/15 [==============================] - 24s 2s/step - loss: 0.6469 - accuracy: 0.4979 - val_loss: 0.7703 - val_accuracy: 0.4917\n",
      "Epoch 20/50\n",
      "15/15 [==============================] - 21s 1s/step - loss: 0.6423 - accuracy: 0.4979 - val_loss: 0.7685 - val_accuracy: 0.4917\n",
      "Epoch 21/50\n",
      "15/15 [==============================] - 21s 1s/step - loss: 0.6388 - accuracy: 0.5042 - val_loss: 0.7659 - val_accuracy: 0.4917\n",
      "Epoch 22/50\n",
      "15/15 [==============================] - 21s 1s/step - loss: 0.6356 - accuracy: 0.5063 - val_loss: 0.7624 - val_accuracy: 0.4917\n",
      "Epoch 23/50\n",
      "15/15 [==============================] - 19s 1s/step - loss: 0.6317 - accuracy: 0.5063 - val_loss: 0.7668 - val_accuracy: 0.4917\n",
      "Epoch 24/50\n",
      "15/15 [==============================] - 23s 2s/step - loss: 0.6292 - accuracy: 0.5063 - val_loss: 0.7606 - val_accuracy: 0.4917\n",
      "Epoch 25/50\n",
      "15/15 [==============================] - 24s 2s/step - loss: 0.6263 - accuracy: 0.5063 - val_loss: 0.7646 - val_accuracy: 0.4917\n",
      "Epoch 26/50\n",
      "15/15 [==============================] - 20s 1s/step - loss: 0.6220 - accuracy: 0.5063 - val_loss: 0.7604 - val_accuracy: 0.4917\n",
      "Epoch 27/50\n",
      "15/15 [==============================] - 21s 1s/step - loss: 0.6193 - accuracy: 0.5063 - val_loss: 0.7601 - val_accuracy: 0.4917\n",
      "Epoch 28/50\n",
      "15/15 [==============================] - 20s 1s/step - loss: 0.6153 - accuracy: 0.5104 - val_loss: 0.7599 - val_accuracy: 0.4917\n",
      "Epoch 29/50\n",
      "15/15 [==============================] - 21s 1s/step - loss: 0.6139 - accuracy: 0.5146 - val_loss: 0.7593 - val_accuracy: 0.4917\n",
      "Epoch 30/50\n",
      "15/15 [==============================] - 24s 2s/step - loss: 0.6117 - accuracy: 0.5292 - val_loss: 0.7584 - val_accuracy: 0.4917\n",
      "Epoch 31/50\n",
      "15/15 [==============================] - 22s 1s/step - loss: 0.6083 - accuracy: 0.5229 - val_loss: 0.7584 - val_accuracy: 0.4917\n",
      "Epoch 32/50\n",
      "15/15 [==============================] - 21s 1s/step - loss: 0.6045 - accuracy: 0.5354 - val_loss: 0.7575 - val_accuracy: 0.4917\n",
      "Epoch 33/50\n",
      "15/15 [==============================] - 21s 1s/step - loss: 0.6037 - accuracy: 0.5417 - val_loss: 0.7578 - val_accuracy: 0.4917\n",
      "Epoch 34/50\n",
      "15/15 [==============================] - 20s 1s/step - loss: 0.6017 - accuracy: 0.5437 - val_loss: 0.7566 - val_accuracy: 0.4917\n",
      "Epoch 35/50\n",
      "15/15 [==============================] - 23s 2s/step - loss: 0.5983 - accuracy: 0.5437 - val_loss: 0.7593 - val_accuracy: 0.4917\n",
      "Epoch 36/50\n",
      "15/15 [==============================] - 24s 2s/step - loss: 0.5974 - accuracy: 0.5521 - val_loss: 0.7563 - val_accuracy: 0.4917\n",
      "Epoch 37/50\n",
      "15/15 [==============================] - 20s 1s/step - loss: 0.5941 - accuracy: 0.5625 - val_loss: 0.7571 - val_accuracy: 0.4917\n",
      "Epoch 38/50\n",
      "15/15 [==============================] - 21s 1s/step - loss: 0.5904 - accuracy: 0.5708 - val_loss: 0.7546 - val_accuracy: 0.4917\n",
      "Epoch 39/50\n",
      "15/15 [==============================] - 21s 1s/step - loss: 0.5884 - accuracy: 0.5771 - val_loss: 0.7605 - val_accuracy: 0.4917\n",
      "Epoch 40/50\n",
      "15/15 [==============================] - 20s 1s/step - loss: 0.5871 - accuracy: 0.5813 - val_loss: 0.7571 - val_accuracy: 0.4917\n",
      "Epoch 41/50\n",
      "15/15 [==============================] - 23s 2s/step - loss: 0.5838 - accuracy: 0.5979 - val_loss: 0.7561 - val_accuracy: 0.4917\n",
      "Epoch 42/50\n",
      "15/15 [==============================] - 22s 2s/step - loss: 0.5827 - accuracy: 0.5979 - val_loss: 0.7563 - val_accuracy: 0.4917\n",
      "Epoch 43/50\n",
      "15/15 [==============================] - 21s 1s/step - loss: 0.5811 - accuracy: 0.6042 - val_loss: 0.7586 - val_accuracy: 0.4917\n",
      "Epoch 44/50\n",
      "15/15 [==============================] - 21s 1s/step - loss: 0.5788 - accuracy: 0.6187 - val_loss: 0.7566 - val_accuracy: 0.4917\n",
      "Epoch 45/50\n",
      "15/15 [==============================] - 20s 1s/step - loss: 0.5756 - accuracy: 0.6250 - val_loss: 0.7579 - val_accuracy: 0.4917\n",
      "Epoch 46/50\n",
      "15/15 [==============================] - 22s 2s/step - loss: 0.5714 - accuracy: 0.6542 - val_loss: 0.7583 - val_accuracy: 0.4917\n",
      "Epoch 47/50\n",
      "15/15 [==============================] - 24s 2s/step - loss: 0.5705 - accuracy: 0.6562 - val_loss: 0.7574 - val_accuracy: 0.4917\n",
      "Epoch 48/50\n",
      "15/15 [==============================] - 20s 1s/step - loss: 0.5680 - accuracy: 0.6542 - val_loss: 0.7605 - val_accuracy: 0.4917\n",
      "Epoch 49/50\n",
      "15/15 [==============================] - 21s 1s/step - loss: 0.5667 - accuracy: 0.6687 - val_loss: 0.7575 - val_accuracy: 0.4917\n",
      "Epoch 50/50\n",
      "15/15 [==============================] - 21s 1s/step - loss: 0.5631 - accuracy: 0.6854 - val_loss: 0.7606 - val_accuracy: 0.4917\n"
     ]
    }
   ],
   "source": [
    "#Model Training\n",
    "history = model.fit([pairTrain[:, 0], pairTrain[:, 1]], labelTrain[:], validation_data=([pairVal[:, 0], pairVal[:, 1]], labelVal[:]), batch_size=32, epochs=50)"
   ]
  },
  {
   "cell_type": "code",
   "execution_count": 56,
   "id": "6e144bbd",
   "metadata": {},
   "outputs": [
    {
     "data": {
      "image/png": "[encoded data removed]",
      "text/plain": [
       "<Figure size 432x288 with 1 Axes>"
      ]
     },
     "metadata": {
      "needs_background": "light"
     },
     "output_type": "display_data"
    }
   ],
   "source": [
    "plt.plot(history.history['loss'],label='Train')\n",
    "plt.plot(history.history['val_loss'],label='Validation')\n",
    "plt.title(\"Train & Validation Loss\")\n",
    "plt.show()"
   ]
  },
  {
   "cell_type": "markdown",
   "id": "26cdcb2e",
   "metadata": {},
   "source": [
    "#### Predict the Similarity score between 2 images:"
   ]
  },
  {
   "cell_type": "code",
   "execution_count": 52,
   "id": "886ba946",
   "metadata": {},
   "outputs": [
    {
     "data": {
      "text/plain": [
       "0.7065986"
      ]
     },
     "execution_count": 52,
     "metadata": {},
     "output_type": "execute_result"
    }
   ],
   "source": [
    "preds = model.predict([pairVal[1],pairVal[2]])\n",
    "preds.max()"
   ]
  },
  {
   "cell_type": "markdown",
   "id": "45a37d1a",
   "metadata": {},
   "source": [
    "#### Conclusion:"
   ]
  },
  {
   "cell_type": "markdown",
   "id": "55d87e9e",
   "metadata": {},
   "source": [
    "- Using binary cross entropy loss we get the similarity score between 2 images.\n",
    "- The best fit model gave a loss of 0.56 on Train data and 0.76 on Test data"
   ]
  },
  {
   "cell_type": "code",
   "execution_count": null,
   "id": "f8e66d59",
   "metadata": {},
   "outputs": [],
   "source": []
  }
 ],
 "metadata": {
  "kernelspec": {
   "display_name": "Python 3",
   "language": "python",
   "name": "python3"
  },
  "language_info": {
   "codemirror_mode": {
    "name": "ipython",
    "version": 3
   },
   "file_extension": ".py",
   "mimetype": "text/x-python",
   "name": "python",
   "nbconvert_exporter": "python",
   "pygments_lexer": "ipython3",
   "version": "3.6.13"
  }
 },
 "nbformat": 4,
 "nbformat_minor": 5
}
