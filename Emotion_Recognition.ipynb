{
 "cells": [
  {
   "cell_type": "markdown",
   "id": "7a996038",
   "metadata": {},
   "source": [
    "#### Problem Statement:"
   ]
  },
  {
   "cell_type": "markdown",
   "id": "1b8a6187",
   "metadata": {},
   "source": [
    "Manually obtaining images of me and my family members potraying various emotions such as anger,happy,sad and shock.Further building a classification model using VGG16 network and finally recognizig the emotion of a person using the webcam. "
   ]
  },
  {
   "cell_type": "markdown",
   "id": "4e4f9ec1",
   "metadata": {},
   "source": [
    "#### Import Libraries:"
   ]
  },
  {
   "cell_type": "code",
   "execution_count": 1,
   "id": "1d9d8242",
   "metadata": {},
   "outputs": [],
   "source": [
    "import cv2\n",
    "import numpy as np\n",
    "import split_folders\n",
    "from tensorflow.keras.applications import VGG16\n",
    "from tensorflow.keras.models import Sequential\n",
    "from tensorflow.keras.layers import Dense,Flatten \n",
    "from tensorflow.keras.preprocessing.image import ImageDataGenerator\n",
    "from PIL import ImageFile\n",
    "import matplotlib.pyplot as plt\n",
    "from PIL import Image\n",
    "from keras.models import load_model"
   ]
  },
  {
   "cell_type": "markdown",
   "id": "76343b13",
   "metadata": {},
   "source": [
    "#### Obtaining Images using Webcam:"
   ]
  },
  {
   "cell_type": "code",
   "execution_count": 2,
   "id": "421b718d",
   "metadata": {},
   "outputs": [],
   "source": [
    "# Loading the open source Haar Classifier which is used to recognize faces.\n",
    "classifier=cv2.CascadeClassifier(\"D:/MTech-DSML/DATA/haarcascade_frontalface_alt2.xml\")\n",
    "\n",
    "# Function to crop face from an image\n",
    "def face_extractor(img):\n",
    "    #Detects objects of different sizes in the input image.\n",
    "    face=classifier.detectMultiScale(img,1.3,2)\n",
    "    \n",
    "    if face is ():\n",
    "        return None\n",
    "    \n",
    "    # Co-ordinates of face\n",
    "    for (x,y,w,h) in face:\n",
    "        x=x-10\n",
    "        y=y-10\n",
    "        cropped_face=img[y:y+h+150,x:x+w+150]\n",
    "        \n",
    "    return cropped_face"
   ]
  },
  {
   "cell_type": "code",
   "execution_count": null,
   "id": "d4ec3b19",
   "metadata": {},
   "outputs": [],
   "source": [
    "# Initializing the Webcam\n",
    "capture=cv2.VideoCapture(0)\n",
    "count=0\n",
    "\n",
    "#Collecting 200 images of each expression\n",
    "while True:\n",
    "    ret,frame=capture.read()\n",
    "    if face_extractor(frame) is not None:\n",
    "        count +=1\n",
    "        # Resizing the image\n",
    "        face=cv2.resize(face_extractor(frame),(400,400))\n",
    "        # Saving the images in a specific path\n",
    "        file_path=\"D:/MTech-DSML/Main Projects/ Emotion Images/Shock/\"+str(count)+'.jpg'\n",
    "        cv2.imwrite(file_path,face)\n",
    "        cv2.imshow(\"Face Crop\",face)\n",
    "    else:\n",
    "        # Incase the face in not found in the frame\n",
    "        print(\"Face not found\")\n",
    "        pass\n",
    "    \n",
    "    # Wait until Enter key is pressed (13) or until 200 images are obtained\n",
    "    if cv2.waitKey(1)== 13 or count==200:\n",
    "        break\n",
    "        \n",
    "capture.release()\n",
    "cv2.destroyAllWindows()\n",
    "print(\"200 images of the class collected\")\n",
    "    \n",
    "        "
   ]
  },
  {
   "cell_type": "markdown",
   "id": "ed9df6d2",
   "metadata": {},
   "source": [
    "200 images of each emotion class i.e  anger,happy,sad and shock has been collected and will be used further for building a classification model"
   ]
  },
  {
   "cell_type": "markdown",
   "id": "42cb8b2a",
   "metadata": {},
   "source": [
    "#### Loading the data:"
   ]
  },
  {
   "cell_type": "code",
   "execution_count": 3,
   "id": "1b810976",
   "metadata": {},
   "outputs": [
    {
     "name": "stderr",
     "output_type": "stream",
     "text": [
      "Copying files: 800 files [00:00, 1610.05 files/s]\n"
     ]
    }
   ],
   "source": [
    "# Splitting Data into Train and Validation\n",
    "split_folders.ratio(\"D:/MTech-DSML/Main Projects/Emotion Images\",output=\"D:/MTech-DSML/Main Projects/Emotion Images Split\",\n",
    "                   seed=1337,\n",
    "                  ratio=(0.8, 0.2))"
   ]
  },
  {
   "cell_type": "code",
   "execution_count": 4,
   "id": "5ae87f37",
   "metadata": {},
   "outputs": [
    {
     "name": "stdout",
     "output_type": "stream",
     "text": [
      "Found 640 images belonging to 4 classes.\n"
     ]
    }
   ],
   "source": [
    "# Train data Augmentation\n",
    "train_datagen=ImageDataGenerator(rescale=1./255,\n",
    "        shear_range=0.2,\n",
    "        zoom_range=0.2,\n",
    "        horizontal_flip=True)\n",
    "\n",
    "train_data=train_datagen.flow_from_directory(\"D:/MTech-DSML/Main Projects/Emotion Images Split/train\",target_size=(64,64),class_mode='categorical',\n",
    "    batch_size=16)"
   ]
  },
  {
   "cell_type": "code",
   "execution_count": 5,
   "id": "fba16e48",
   "metadata": {},
   "outputs": [
    {
     "name": "stdout",
     "output_type": "stream",
     "text": [
      "Found 160 images belonging to 4 classes.\n"
     ]
    }
   ],
   "source": [
    "val_datagen=ImageDataGenerator(rescale=1./255)\n",
    "\n",
    "val_data=val_datagen.flow_from_directory(\"D:/MTech-DSML/Main Projects/Emotion Images Split/val\",target_size=(64, 64),class_mode='categorical',\n",
    "    batch_size=16)"
   ]
  },
  {
   "cell_type": "markdown",
   "id": "88770f8e",
   "metadata": {},
   "source": [
    "#### Building Classification Model using VGG16:"
   ]
  },
  {
   "cell_type": "code",
   "execution_count": 6,
   "id": "93b3359d",
   "metadata": {},
   "outputs": [],
   "source": [
    "model=VGG16()"
   ]
  },
  {
   "cell_type": "code",
   "execution_count": 7,
   "id": "7ba53eae",
   "metadata": {},
   "outputs": [
    {
     "name": "stdout",
     "output_type": "stream",
     "text": [
      "Model: \"vgg16\"\n",
      "_________________________________________________________________\n",
      "Layer (type)                 Output Shape              Param #   \n",
      "=================================================================\n",
      "input_1 (InputLayer)         [(None, 224, 224, 3)]     0         \n",
      "_________________________________________________________________\n",
      "block1_conv1 (Conv2D)        (None, 224, 224, 64)      1792      \n",
      "_________________________________________________________________\n",
      "block1_conv2 (Conv2D)        (None, 224, 224, 64)      36928     \n",
      "_________________________________________________________________\n",
      "block1_pool (MaxPooling2D)   (None, 112, 112, 64)      0         \n",
      "_________________________________________________________________\n",
      "block2_conv1 (Conv2D)        (None, 112, 112, 128)     73856     \n",
      "_________________________________________________________________\n",
      "block2_conv2 (Conv2D)        (None, 112, 112, 128)     147584    \n",
      "_________________________________________________________________\n",
      "block2_pool (MaxPooling2D)   (None, 56, 56, 128)       0         \n",
      "_________________________________________________________________\n",
      "block3_conv1 (Conv2D)        (None, 56, 56, 256)       295168    \n",
      "_________________________________________________________________\n",
      "block3_conv2 (Conv2D)        (None, 56, 56, 256)       590080    \n",
      "_________________________________________________________________\n",
      "block3_conv3 (Conv2D)        (None, 56, 56, 256)       590080    \n",
      "_________________________________________________________________\n",
      "block3_pool (MaxPooling2D)   (None, 28, 28, 256)       0         \n",
      "_________________________________________________________________\n",
      "block4_conv1 (Conv2D)        (None, 28, 28, 512)       1180160   \n",
      "_________________________________________________________________\n",
      "block4_conv2 (Conv2D)        (None, 28, 28, 512)       2359808   \n",
      "_________________________________________________________________\n",
      "block4_conv3 (Conv2D)        (None, 28, 28, 512)       2359808   \n",
      "_________________________________________________________________\n",
      "block4_pool (MaxPooling2D)   (None, 14, 14, 512)       0         \n",
      "_________________________________________________________________\n",
      "block5_conv1 (Conv2D)        (None, 14, 14, 512)       2359808   \n",
      "_________________________________________________________________\n",
      "block5_conv2 (Conv2D)        (None, 14, 14, 512)       2359808   \n",
      "_________________________________________________________________\n",
      "block5_conv3 (Conv2D)        (None, 14, 14, 512)       2359808   \n",
      "_________________________________________________________________\n",
      "block5_pool (MaxPooling2D)   (None, 7, 7, 512)         0         \n",
      "_________________________________________________________________\n",
      "flatten (Flatten)            (None, 25088)             0         \n",
      "_________________________________________________________________\n",
      "fc1 (Dense)                  (None, 4096)              102764544 \n",
      "_________________________________________________________________\n",
      "fc2 (Dense)                  (None, 4096)              16781312  \n",
      "_________________________________________________________________\n",
      "predictions (Dense)          (None, 1000)              4097000   \n",
      "=================================================================\n",
      "Total params: 138,357,544\n",
      "Trainable params: 138,357,544\n",
      "Non-trainable params: 0\n",
      "_________________________________________________________________\n"
     ]
    }
   ],
   "source": [
    "model.summary()"
   ]
  },
  {
   "cell_type": "code",
   "execution_count": 8,
   "id": "7ced3d77",
   "metadata": {},
   "outputs": [],
   "source": [
    "# Excluding the Convolution layers of the VGG16 model and setting the input shape same as that of target size during Data Augmentation\n",
    "model=VGG16(input_shape=(64,64,3),include_top=False)"
   ]
  },
  {
   "cell_type": "code",
   "execution_count": 9,
   "id": "5c20b258",
   "metadata": {},
   "outputs": [],
   "source": [
    "# Train the weights of only the dense layers \n",
    "for layers in model.layers:\n",
    "    if('dense' not in layers.name):\n",
    "        layers.trainable=False\n",
    "    if('dense' in layers.name):\n",
    "        layers.trainable=True"
   ]
  },
  {
   "cell_type": "code",
   "execution_count": 10,
   "id": "35197c47",
   "metadata": {},
   "outputs": [
    {
     "name": "stdout",
     "output_type": "stream",
     "text": [
      "Model: \"sequential\"\n",
      "_________________________________________________________________\n",
      "Layer (type)                 Output Shape              Param #   \n",
      "=================================================================\n",
      "vgg16 (Functional)           (None, 2, 2, 512)         14714688  \n",
      "_________________________________________________________________\n",
      "flatten (Flatten)            (None, 2048)              0         \n",
      "_________________________________________________________________\n",
      "dense (Dense)                (None, 64)                131136    \n",
      "_________________________________________________________________\n",
      "dense_1 (Dense)              (None, 4)                 260       \n",
      "=================================================================\n",
      "Total params: 14,846,084\n",
      "Trainable params: 131,396\n",
      "Non-trainable params: 14,714,688\n",
      "_________________________________________________________________\n"
     ]
    }
   ],
   "source": [
    "#Adding the new dense layers to the VGG16 model\n",
    "transfer_model=Sequential([model,\n",
    "                          Flatten(),\n",
    "                          Dense(64,activation='relu'),\n",
    "                          Dense(4,activation='softmax')])\n",
    "transfer_model.summary()"
   ]
  },
  {
   "cell_type": "code",
   "execution_count": 11,
   "id": "85fd7eda",
   "metadata": {},
   "outputs": [],
   "source": [
    "#Compiling the model using adam optimizer, loss as 'categorical_crossentropy' and metrics as accuracy\n",
    "transfer_model.compile(optimizer='adam',loss='categorical_crossentropy',metrics=['accuracy'])"
   ]
  },
  {
   "cell_type": "code",
   "execution_count": 14,
   "id": "e12905d1",
   "metadata": {
    "scrolled": true
   },
   "outputs": [
    {
     "name": "stderr",
     "output_type": "stream",
     "text": [
      "C:\\Users\\acer\\.conda\\envs\\tf_env\\lib\\site-packages\\tensorflow\\python\\keras\\engine\\training.py:1940: UserWarning: `Model.fit_generator` is deprecated and will be removed in a future version. Please use `Model.fit`, which supports generators.\n",
      "  warnings.warn('`Model.fit_generator` is deprecated and '\n"
     ]
    },
    {
     "name": "stdout",
     "output_type": "stream",
     "text": [
      "Epoch 1/50\n",
      "40/40 [==============================] - 13s 313ms/step - loss: 0.4999 - accuracy: 0.8469 - val_loss: 0.1716 - val_accuracy: 0.9688\n",
      "Epoch 2/50\n",
      "40/40 [==============================] - 9s 238ms/step - loss: 0.1154 - accuracy: 0.9781 - val_loss: 0.0677 - val_accuracy: 0.9875\n",
      "Epoch 3/50\n",
      "40/40 [==============================] - 9s 231ms/step - loss: 0.0633 - accuracy: 0.9844 - val_loss: 0.0349 - val_accuracy: 0.9937\n",
      "Epoch 4/50\n",
      "40/40 [==============================] - 10s 239ms/step - loss: 0.0405 - accuracy: 0.9922 - val_loss: 0.0293 - val_accuracy: 0.9875\n",
      "Epoch 5/50\n",
      "40/40 [==============================] - 9s 231ms/step - loss: 0.0331 - accuracy: 0.9922 - val_loss: 0.0125 - val_accuracy: 1.0000\n",
      "Epoch 6/50\n",
      "40/40 [==============================] - 9s 216ms/step - loss: 0.0283 - accuracy: 0.9953 - val_loss: 0.0164 - val_accuracy: 0.9937\n",
      "Epoch 7/50\n",
      "40/40 [==============================] - 9s 218ms/step - loss: 0.0346 - accuracy: 0.9906 - val_loss: 0.0129 - val_accuracy: 1.0000\n",
      "Epoch 8/50\n",
      "40/40 [==============================] - 9s 222ms/step - loss: 0.0199 - accuracy: 0.9953 - val_loss: 0.0134 - val_accuracy: 0.9937\n",
      "Epoch 9/50\n",
      "40/40 [==============================] - 9s 216ms/step - loss: 0.0114 - accuracy: 1.0000 - val_loss: 0.0130 - val_accuracy: 0.9937\n",
      "Epoch 10/50\n",
      "40/40 [==============================] - 9s 217ms/step - loss: 0.0225 - accuracy: 0.9937 - val_loss: 0.0129 - val_accuracy: 0.9937\n",
      "Epoch 11/50\n",
      "40/40 [==============================] - 9s 216ms/step - loss: 0.0124 - accuracy: 0.9984 - val_loss: 0.0071 - val_accuracy: 1.0000\n",
      "Epoch 12/50\n",
      "40/40 [==============================] - 9s 233ms/step - loss: 0.0086 - accuracy: 0.9984 - val_loss: 0.0122 - val_accuracy: 0.9937\n",
      "Epoch 13/50\n",
      "40/40 [==============================] - 9s 233ms/step - loss: 0.0081 - accuracy: 1.0000 - val_loss: 0.0060 - val_accuracy: 1.0000\n",
      "Epoch 14/50\n",
      "40/40 [==============================] - 10s 240ms/step - loss: 0.0083 - accuracy: 0.9984 - val_loss: 0.0058 - val_accuracy: 1.0000\n",
      "Epoch 15/50\n",
      "40/40 [==============================] - 9s 234ms/step - loss: 0.0070 - accuracy: 0.9984 - val_loss: 0.0258 - val_accuracy: 0.9875\n",
      "Epoch 16/50\n",
      "40/40 [==============================] - 9s 219ms/step - loss: 0.0053 - accuracy: 0.9984 - val_loss: 0.0039 - val_accuracy: 1.0000\n",
      "Epoch 17/50\n",
      "40/40 [==============================] - 9s 219ms/step - loss: 0.0064 - accuracy: 0.9984 - val_loss: 0.0029 - val_accuracy: 1.0000\n",
      "Epoch 18/50\n",
      "40/40 [==============================] - 9s 217ms/step - loss: 0.0044 - accuracy: 1.0000 - val_loss: 0.0101 - val_accuracy: 0.9937\n",
      "Epoch 19/50\n",
      "40/40 [==============================] - 9s 218ms/step - loss: 0.0070 - accuracy: 0.9984 - val_loss: 0.0076 - val_accuracy: 1.0000\n",
      "Epoch 20/50\n",
      "40/40 [==============================] - 9s 218ms/step - loss: 0.0021 - accuracy: 1.0000 - val_loss: 0.0058 - val_accuracy: 1.0000\n",
      "Epoch 21/50\n",
      "40/40 [==============================] - 9s 218ms/step - loss: 0.0021 - accuracy: 1.0000 - val_loss: 0.0049 - val_accuracy: 1.0000\n",
      "Epoch 22/50\n",
      "40/40 [==============================] - 9s 217ms/step - loss: 0.0032 - accuracy: 1.0000 - val_loss: 0.0054 - val_accuracy: 1.0000\n",
      "Epoch 23/50\n",
      "40/40 [==============================] - 9s 217ms/step - loss: 0.0036 - accuracy: 1.0000 - val_loss: 0.0106 - val_accuracy: 1.0000\n",
      "Epoch 24/50\n",
      "40/40 [==============================] - 9s 217ms/step - loss: 0.0036 - accuracy: 1.0000 - val_loss: 0.0077 - val_accuracy: 1.0000\n",
      "Epoch 25/50\n",
      "40/40 [==============================] - 9s 225ms/step - loss: 0.0019 - accuracy: 1.0000 - val_loss: 0.0041 - val_accuracy: 1.0000\n",
      "Epoch 26/50\n",
      "40/40 [==============================] - 9s 233ms/step - loss: 0.0019 - accuracy: 1.0000 - val_loss: 0.0046 - val_accuracy: 1.0000\n",
      "Epoch 27/50\n",
      "40/40 [==============================] - 9s 236ms/step - loss: 0.0025 - accuracy: 1.0000 - val_loss: 0.0021 - val_accuracy: 1.0000\n",
      "Epoch 28/50\n",
      "40/40 [==============================] - 10s 245ms/step - loss: 0.0026 - accuracy: 1.0000 - val_loss: 0.0074 - val_accuracy: 1.0000\n",
      "Epoch 29/50\n",
      "40/40 [==============================] - 9s 218ms/step - loss: 0.0024 - accuracy: 1.0000 - val_loss: 0.0031 - val_accuracy: 1.0000\n",
      "Epoch 30/50\n",
      "40/40 [==============================] - 9s 219ms/step - loss: 0.0011 - accuracy: 1.0000 - val_loss: 0.0047 - val_accuracy: 1.0000\n",
      "Epoch 31/50\n",
      "40/40 [==============================] - 9s 217ms/step - loss: 0.0018 - accuracy: 1.0000 - val_loss: 0.0193 - val_accuracy: 0.9875\n",
      "Epoch 32/50\n",
      "40/40 [==============================] - 9s 218ms/step - loss: 0.0075 - accuracy: 0.9984 - val_loss: 0.0054 - val_accuracy: 1.0000\n",
      "Epoch 33/50\n",
      "40/40 [==============================] - 9s 217ms/step - loss: 0.0030 - accuracy: 1.0000 - val_loss: 9.1841e-04 - val_accuracy: 1.0000\n",
      "Epoch 34/50\n",
      "40/40 [==============================] - 9s 217ms/step - loss: 8.3702e-04 - accuracy: 1.0000 - val_loss: 0.0020 - val_accuracy: 1.0000\n",
      "Epoch 35/50\n",
      "40/40 [==============================] - 9s 223ms/step - loss: 8.9849e-04 - accuracy: 1.0000 - val_loss: 8.2870e-04 - val_accuracy: 1.0000\n",
      "Epoch 36/50\n",
      "40/40 [==============================] - 9s 224ms/step - loss: 8.3803e-04 - accuracy: 1.0000 - val_loss: 0.0024 - val_accuracy: 1.0000\n",
      "Epoch 37/50\n",
      "40/40 [==============================] - 9s 218ms/step - loss: 0.0076 - accuracy: 0.9953 - val_loss: 8.7535e-04 - val_accuracy: 1.0000\n",
      "Epoch 38/50\n",
      "40/40 [==============================] - 9s 220ms/step - loss: 0.0057 - accuracy: 0.9984 - val_loss: 0.0052 - val_accuracy: 1.0000\n",
      "Epoch 39/50\n",
      "40/40 [==============================] - 9s 235ms/step - loss: 0.0012 - accuracy: 1.0000 - val_loss: 0.0010 - val_accuracy: 1.0000\n",
      "Epoch 40/50\n",
      "40/40 [==============================] - 9s 235ms/step - loss: 9.3027e-04 - accuracy: 1.0000 - val_loss: 0.0014 - val_accuracy: 1.0000\n",
      "Epoch 41/50\n",
      "40/40 [==============================] - 10s 248ms/step - loss: 4.6011e-04 - accuracy: 1.0000 - val_loss: 0.0012 - val_accuracy: 1.0000\n",
      "Epoch 42/50\n",
      "40/40 [==============================] - 9s 234ms/step - loss: 3.4889e-04 - accuracy: 1.0000 - val_loss: 0.0019 - val_accuracy: 1.0000\n",
      "Epoch 43/50\n",
      "40/40 [==============================] - 9s 224ms/step - loss: 0.0012 - accuracy: 1.0000 - val_loss: 0.0014 - val_accuracy: 1.0000\n",
      "Epoch 44/50\n",
      "40/40 [==============================] - 9s 230ms/step - loss: 9.7952e-04 - accuracy: 1.0000 - val_loss: 0.0021 - val_accuracy: 1.0000\n",
      "Epoch 45/50\n",
      "40/40 [==============================] - 9s 232ms/step - loss: 0.0010 - accuracy: 1.0000 - val_loss: 0.0013 - val_accuracy: 1.0000\n",
      "Epoch 46/50\n",
      "40/40 [==============================] - 9s 221ms/step - loss: 0.0020 - accuracy: 1.0000 - val_loss: 0.0032 - val_accuracy: 1.0000\n",
      "Epoch 47/50\n",
      "40/40 [==============================] - 9s 223ms/step - loss: 8.7227e-04 - accuracy: 1.0000 - val_loss: 0.0014 - val_accuracy: 1.0000\n",
      "Epoch 48/50\n",
      "40/40 [==============================] - 9s 223ms/step - loss: 3.6437e-04 - accuracy: 1.0000 - val_loss: 7.7327e-04 - val_accuracy: 1.0000\n",
      "Epoch 49/50\n",
      "40/40 [==============================] - 9s 223ms/step - loss: 3.6408e-04 - accuracy: 1.0000 - val_loss: 0.0011 - val_accuracy: 1.0000\n",
      "Epoch 50/50\n",
      "40/40 [==============================] - 9s 222ms/step - loss: 4.0295e-04 - accuracy: 1.0000 - val_loss: 8.7537e-04 - val_accuracy: 1.0000\n"
     ]
    }
   ],
   "source": [
    "ImageFile.LOAD_TRUNCATED_IMAGES = True\n",
    "my_model=transfer_model.fit_generator(train_data,steps_per_epoch=640 //16,epochs=50,\n",
    "                                      validation_data=val_data,validation_steps=160//16)"
   ]
  },
  {
   "cell_type": "code",
   "execution_count": 15,
   "id": "b11cb1b3",
   "metadata": {},
   "outputs": [],
   "source": [
    "transfer_model.save(\"emotion_detection.h5\")"
   ]
  },
  {
   "cell_type": "code",
   "execution_count": 16,
   "id": "998f0fca",
   "metadata": {},
   "outputs": [
    {
     "data": {
      "text/plain": [
       "{'Anger': 0, 'Happy': 1, 'Sad': 2, 'Shock': 3}"
      ]
     },
     "execution_count": 16,
     "metadata": {},
     "output_type": "execute_result"
    }
   ],
   "source": [
    "train_data.class_indices"
   ]
  },
  {
   "cell_type": "code",
   "execution_count": 17,
   "id": "cda3edd4",
   "metadata": {},
   "outputs": [
    {
     "data": {
      "image/png": "[encoded data removed]",
      "text/plain": [
       "<Figure size 1080x360 with 2 Axes>"
      ]
     },
     "metadata": {
      "needs_background": "light"
     },
     "output_type": "display_data"
    }
   ],
   "source": [
    "# Comparing performance metrics of the model\n",
    "plt.figure(figsize=(15,5))\n",
    "plt.subplot(121)\n",
    "plt.plot(my_model.history['accuracy'],label='Train')\n",
    "plt.plot(my_model.history['val_accuracy'],label='Test')\n",
    "plt.title(\"Accuracy\")\n",
    "plt.legend()\n",
    "\n",
    "plt.subplot(122)\n",
    "plt.plot(my_model.history['loss'],label='Train')\n",
    "plt.plot(my_model.history['val_loss'],label='Test')\n",
    "plt.title(\"Loss\")\n",
    "plt.legend()\n",
    "plt.show()"
   ]
  },
  {
   "cell_type": "markdown",
   "id": "6f3cb453",
   "metadata": {},
   "source": [
    "#### Predicting the emotions using Webcam:"
   ]
  },
  {
   "cell_type": "code",
   "execution_count": 18,
   "id": "ec21f688",
   "metadata": {},
   "outputs": [],
   "source": [
    "# Loading the model weights which were trained\n",
    "model=load_model(\"emotion_detection.h5\")"
   ]
  },
  {
   "cell_type": "code",
   "execution_count": null,
   "id": "42fee6c7",
   "metadata": {},
   "outputs": [],
   "source": [
    "# Initialising Webcam to read and predict the emotions\n",
    "video_capture = cv2.VideoCapture(0)\n",
    "while True:\n",
    "    _,frame = video_capture.read()\n",
    "    \n",
    "    emotion=face_extractor(frame)\n",
    "    if type(emotion) is np.ndarray:\n",
    "        # Resizing image to the size required by the model\n",
    "        emotion = cv2.resize(emotion, (64,64))\n",
    "        im = Image.fromarray(emotion, 'RGB')\n",
    "        img_array = np.array(im)\n",
    "        img_array = np.expand_dims(img_array, axis=0)\n",
    "        pred = model.predict(img_array)\n",
    "        print(pred)\n",
    "        \n",
    "        # In case an emotion which was not trained is used\n",
    "        name=\"None matching\"\n",
    "        \n",
    "        if(pred[0][0]>0.5):\n",
    "            name='Anger'\n",
    "        elif (pred[0][1]>0.5) :\n",
    "            name='Happy'\n",
    "        elif (pred[0][2]>0.5) :\n",
    "            name='Sad' \n",
    "        elif (pred[0][3]>0.5) :\n",
    "            name='Shock'\n",
    "        cv2.putText(frame,name, (50, 50), cv2.FONT_HERSHEY_COMPLEX, 1, (0,255,0), 2)\n",
    "    else:\n",
    "        cv2.putText(frame,\"No expression\", (50, 50), cv2.FONT_HERSHEY_COMPLEX, 1, (0,255,0), 2)\n",
    "    cv2.imshow('Video', frame)\n",
    "    if cv2.waitKey(1) & 0xFF == ord('q'):\n",
    "        break\n",
    "video_capture.release()\n",
    "cv2.destroyAllWindows()"
   ]
  },
  {
   "cell_type": "markdown",
   "id": "9d6085ea",
   "metadata": {},
   "source": [
    "#### Conclusion:"
   ]
  },
  {
   "cell_type": "markdown",
   "id": "78041d0e",
   "metadata": {},
   "source": [
    "- The model was able to accurately recognise each of the emotions from the person captured by the webcam \n"
   ]
  },
  {
   "cell_type": "code",
   "execution_count": null,
   "id": "b8f7f6fe",
   "metadata": {},
   "outputs": [],
   "source": []
  }
 ],
 "metadata": {
  "kernelspec": {
   "display_name": "Python 3",
   "language": "python",
   "name": "python3"
  },
  "language_info": {
   "codemirror_mode": {
    "name": "ipython",
    "version": 3
   },
   "file_extension": ".py",
   "mimetype": "text/x-python",
   "name": "python",
   "nbconvert_exporter": "python",
   "pygments_lexer": "ipython3",
   "version": "3.6.13"
  }
 },
 "nbformat": 4,
 "nbformat_minor": 5
}
