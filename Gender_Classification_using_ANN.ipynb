{
 "cells": [
  {
   "cell_type": "markdown",
   "id": "5c9f311b",
   "metadata": {},
   "source": [
    "### Problem Statement:"
   ]
  },
  {
   "cell_type": "markdown",
   "id": "b2e6483f",
   "metadata": {},
   "source": [
    "Classifying the gender of people with respect to their facial features into Male/Female using an Artificial Neural Network."
   ]
  },
  {
   "cell_type": "markdown",
   "id": "e13f8dec",
   "metadata": {},
   "source": [
    "#### Import Libraries:"
   ]
  },
  {
   "cell_type": "code",
   "execution_count": 71,
   "id": "631c277b",
   "metadata": {},
   "outputs": [],
   "source": [
    "import pandas as pd\n",
    "import numpy as np\n",
    "import matplotlib.pyplot as plt\n",
    "from sklearn.preprocessing import StandardScaler,LabelEncoder\n",
    "from sklearn.model_selection import train_test_split\n",
    "from tensorflow.keras.models import Sequential\n",
    "from tensorflow.keras.layers import Dense"
   ]
  },
  {
   "cell_type": "code",
   "execution_count": 101,
   "id": "d3116487",
   "metadata": {},
   "outputs": [
    {
     "data": {
      "text/html": [
       "<div>\n",
       "<style scoped>\n",
       "    .dataframe tbody tr th:only-of-type {\n",
       "        vertical-align: middle;\n",
       "    }\n",
       "\n",
       "    .dataframe tbody tr th {\n",
       "        vertical-align: top;\n",
       "    }\n",
       "\n",
       "    .dataframe thead th {\n",
       "        text-align: right;\n",
       "    }\n",
       "</style>\n",
       "<table border=\"1\" class=\"dataframe\">\n",
       "  <thead>\n",
       "    <tr style=\"text-align: right;\">\n",
       "      <th></th>\n",
       "      <th>long_hair</th>\n",
       "      <th>forehead_width_cm</th>\n",
       "      <th>forehead_height_cm</th>\n",
       "      <th>nose_wide</th>\n",
       "      <th>nose_long</th>\n",
       "      <th>lips_thin</th>\n",
       "      <th>distance_nose_to_lip_long</th>\n",
       "      <th>gender</th>\n",
       "    </tr>\n",
       "  </thead>\n",
       "  <tbody>\n",
       "    <tr>\n",
       "      <th>0</th>\n",
       "      <td>1</td>\n",
       "      <td>11.8</td>\n",
       "      <td>6.1</td>\n",
       "      <td>1</td>\n",
       "      <td>0</td>\n",
       "      <td>1</td>\n",
       "      <td>1</td>\n",
       "      <td>Male</td>\n",
       "    </tr>\n",
       "    <tr>\n",
       "      <th>1</th>\n",
       "      <td>0</td>\n",
       "      <td>14.0</td>\n",
       "      <td>5.4</td>\n",
       "      <td>0</td>\n",
       "      <td>0</td>\n",
       "      <td>1</td>\n",
       "      <td>0</td>\n",
       "      <td>Female</td>\n",
       "    </tr>\n",
       "  </tbody>\n",
       "</table>\n",
       "</div>"
      ],
      "text/plain": [
       "   long_hair  forehead_width_cm  forehead_height_cm  nose_wide  nose_long  \\\n",
       "0          1               11.8                 6.1          1          0   \n",
       "1          0               14.0                 5.4          0          0   \n",
       "\n",
       "   lips_thin  distance_nose_to_lip_long  gender  \n",
       "0          1                          1    Male  \n",
       "1          1                          0  Female  "
      ]
     },
     "execution_count": 101,
     "metadata": {},
     "output_type": "execute_result"
    }
   ],
   "source": [
    "df=pd.read_csv(\"gender_classification_v7.csv\")\n",
    "\n",
    "#Top 2 rows\n",
    "df.head(2)"
   ]
  },
  {
   "cell_type": "code",
   "execution_count": 102,
   "id": "34885a71",
   "metadata": {},
   "outputs": [
    {
     "data": {
      "text/plain": [
       "(5001, 8)"
      ]
     },
     "execution_count": 102,
     "metadata": {},
     "output_type": "execute_result"
    }
   ],
   "source": [
    "# Checking the shape of data\n",
    "df.shape"
   ]
  },
  {
   "cell_type": "markdown",
   "id": "dd364e95",
   "metadata": {},
   "source": [
    "#### Data Preprocessing:"
   ]
  },
  {
   "cell_type": "code",
   "execution_count": 103,
   "id": "c482c8a6",
   "metadata": {},
   "outputs": [
    {
     "data": {
      "text/plain": [
       "long_hair                    0\n",
       "forehead_width_cm            0\n",
       "forehead_height_cm           0\n",
       "nose_wide                    0\n",
       "nose_long                    0\n",
       "lips_thin                    0\n",
       "distance_nose_to_lip_long    0\n",
       "gender                       0\n",
       "dtype: int64"
      ]
     },
     "execution_count": 103,
     "metadata": {},
     "output_type": "execute_result"
    }
   ],
   "source": [
    "# Checking for null values\n",
    "df.isnull().sum()"
   ]
  },
  {
   "cell_type": "markdown",
   "id": "7dab6fcc",
   "metadata": {},
   "source": [
    "No null values present in the data."
   ]
  },
  {
   "cell_type": "code",
   "execution_count": 104,
   "id": "d74ae935",
   "metadata": {},
   "outputs": [],
   "source": [
    "# Splitting Data into Depenedent and Independent variables\n",
    "X=df.drop(columns=['gender'])\n",
    "y=df[['gender']]"
   ]
  },
  {
   "cell_type": "code",
   "execution_count": 105,
   "id": "9560897c",
   "metadata": {},
   "outputs": [
    {
     "data": {
      "text/html": [
       "<div>\n",
       "<style scoped>\n",
       "    .dataframe tbody tr th:only-of-type {\n",
       "        vertical-align: middle;\n",
       "    }\n",
       "\n",
       "    .dataframe tbody tr th {\n",
       "        vertical-align: top;\n",
       "    }\n",
       "\n",
       "    .dataframe thead th {\n",
       "        text-align: right;\n",
       "    }\n",
       "</style>\n",
       "<table border=\"1\" class=\"dataframe\">\n",
       "  <thead>\n",
       "    <tr style=\"text-align: right;\">\n",
       "      <th></th>\n",
       "      <th>long_hair</th>\n",
       "      <th>forehead_width_cm</th>\n",
       "      <th>forehead_height_cm</th>\n",
       "      <th>nose_wide</th>\n",
       "      <th>nose_long</th>\n",
       "      <th>lips_thin</th>\n",
       "      <th>distance_nose_to_lip_long</th>\n",
       "    </tr>\n",
       "  </thead>\n",
       "  <tbody>\n",
       "    <tr>\n",
       "      <th>0</th>\n",
       "      <td>0.387194</td>\n",
       "      <td>-1.247933</td>\n",
       "      <td>0.283971</td>\n",
       "      <td>1.012273</td>\n",
       "      <td>-1.015924</td>\n",
       "      <td>1.013894</td>\n",
       "      <td>1.002202</td>\n",
       "    </tr>\n",
       "    <tr>\n",
       "      <th>1</th>\n",
       "      <td>-2.582682</td>\n",
       "      <td>0.739389</td>\n",
       "      <td>-1.009418</td>\n",
       "      <td>-0.987876</td>\n",
       "      <td>-1.015924</td>\n",
       "      <td>1.013894</td>\n",
       "      <td>-0.997803</td>\n",
       "    </tr>\n",
       "  </tbody>\n",
       "</table>\n",
       "</div>"
      ],
      "text/plain": [
       "   long_hair  forehead_width_cm  forehead_height_cm  nose_wide  nose_long  \\\n",
       "0   0.387194          -1.247933            0.283971   1.012273  -1.015924   \n",
       "1  -2.582682           0.739389           -1.009418  -0.987876  -1.015924   \n",
       "\n",
       "   lips_thin  distance_nose_to_lip_long  \n",
       "0   1.013894                   1.002202  \n",
       "1   1.013894                  -0.997803  "
      ]
     },
     "execution_count": 105,
     "metadata": {},
     "output_type": "execute_result"
    }
   ],
   "source": [
    "# Scaling the Independent variables \n",
    "sc=StandardScaler()\n",
    "df_scaled=pd.DataFrame(sc.fit_transform(X),columns=X.columns)\n",
    "df_scaled.head(2)"
   ]
  },
  {
   "cell_type": "code",
   "execution_count": 106,
   "id": "fd75e3c2",
   "metadata": {},
   "outputs": [
    {
     "data": {
      "text/html": [
       "<div>\n",
       "<style scoped>\n",
       "    .dataframe tbody tr th:only-of-type {\n",
       "        vertical-align: middle;\n",
       "    }\n",
       "\n",
       "    .dataframe tbody tr th {\n",
       "        vertical-align: top;\n",
       "    }\n",
       "\n",
       "    .dataframe thead th {\n",
       "        text-align: right;\n",
       "    }\n",
       "</style>\n",
       "<table border=\"1\" class=\"dataframe\">\n",
       "  <thead>\n",
       "    <tr style=\"text-align: right;\">\n",
       "      <th></th>\n",
       "      <th>gender</th>\n",
       "    </tr>\n",
       "  </thead>\n",
       "  <tbody>\n",
       "    <tr>\n",
       "      <th>0</th>\n",
       "      <td>1</td>\n",
       "    </tr>\n",
       "    <tr>\n",
       "      <th>1</th>\n",
       "      <td>0</td>\n",
       "    </tr>\n",
       "  </tbody>\n",
       "</table>\n",
       "</div>"
      ],
      "text/plain": [
       "   gender\n",
       "0       1\n",
       "1       0"
      ]
     },
     "execution_count": 106,
     "metadata": {},
     "output_type": "execute_result"
    }
   ],
   "source": [
    "# Encoding Depenedent variable\n",
    "lb=LabelEncoder()\n",
    "df_encoded=y.apply(LabelEncoder().fit_transform)\n",
    "df_encoded.head(2)"
   ]
  },
  {
   "cell_type": "code",
   "execution_count": 107,
   "id": "f37ebdfa",
   "metadata": {},
   "outputs": [
    {
     "name": "stdout",
     "output_type": "stream",
     "text": [
      "X-Train shape (3500, 7)\n",
      "X-Test shape (1501, 7)\n",
      "y-Train shape (3500, 1)\n",
      "y-Test shape (1501, 1)\n"
     ]
    }
   ],
   "source": [
    "# Splitting data into Train and Test\n",
    "X_train,X_test,y_train,y_test=train_test_split(df_scaled,df_encoded,test_size=0.3,random_state=10)\n",
    "print(\"X-Train shape\",X_train.shape)\n",
    "print(\"X-Test shape\",X_test.shape)\n",
    "print(\"y-Train shape\",y_train.shape)\n",
    "print(\"y-Test shape\",y_test.shape)"
   ]
  },
  {
   "cell_type": "markdown",
   "id": "a933345c",
   "metadata": {},
   "source": [
    "#### Building ANN model :"
   ]
  },
  {
   "cell_type": "code",
   "execution_count": 108,
   "id": "f9bc4020",
   "metadata": {},
   "outputs": [],
   "source": [
    "#Initializing an Ann Model\n",
    "ann_model=Sequential()\n",
    "\n",
    "# Input layer with input size same as the number of independent variables with number of neurons as 32 and activation 'relu'\n",
    "ann_model.add(Dense(units=32,activation='relu',input_dim=7))\n",
    "\n",
    "#Adding 2nd Dense Layer with number of neurons as 16 and activation 'relu'\n",
    "ann_model.add(Dense(units=16,activation='relu'))\n",
    "              \n",
    "#Adding 3rd Dense Layer with number of neurons as 16 and activation 'relu'\n",
    "ann_model.add(Dense(units=8,activation='relu'))\n",
    "\n",
    "#Adding Final output layer with 1 neuron and actiavtion 'sigmoid' since it is a binary classification \n",
    "ann_model.add(Dense(units=1,activation='sigmoid'))"
   ]
  },
  {
   "cell_type": "code",
   "execution_count": 109,
   "id": "1ed9fcd0",
   "metadata": {},
   "outputs": [
    {
     "name": "stdout",
     "output_type": "stream",
     "text": [
      "Model: \"sequential_1\"\n",
      "_________________________________________________________________\n",
      "Layer (type)                 Output Shape              Param #   \n",
      "=================================================================\n",
      "dense_4 (Dense)              (None, 32)                256       \n",
      "_________________________________________________________________\n",
      "dense_5 (Dense)              (None, 16)                528       \n",
      "_________________________________________________________________\n",
      "dense_6 (Dense)              (None, 8)                 136       \n",
      "_________________________________________________________________\n",
      "dense_7 (Dense)              (None, 1)                 9         \n",
      "=================================================================\n",
      "Total params: 929\n",
      "Trainable params: 929\n",
      "Non-trainable params: 0\n",
      "_________________________________________________________________\n"
     ]
    }
   ],
   "source": [
    "#Looking at the entire structure of the model.\n",
    "ann_model.summary()"
   ]
  },
  {
   "cell_type": "markdown",
   "id": "b154a9a9",
   "metadata": {},
   "source": [
    "#### Model Compile :"
   ]
  },
  {
   "cell_type": "code",
   "execution_count": 110,
   "id": "57d66f4f",
   "metadata": {},
   "outputs": [],
   "source": [
    "# Compiling the model using optimizer 'adam',loss is calculated with binary cross-entropy and accuracy metrics is used.\n",
    "ann_model.compile(optimizer='adam',\n",
    "                        loss='binary_crossentropy',\n",
    "                        metrics=['accuracy'])"
   ]
  },
  {
   "cell_type": "markdown",
   "id": "3bbbf075",
   "metadata": {},
   "source": [
    "#### Train Model :"
   ]
  },
  {
   "cell_type": "code",
   "execution_count": 111,
   "id": "c1e991e6",
   "metadata": {
    "scrolled": true
   },
   "outputs": [
    {
     "name": "stdout",
     "output_type": "stream",
     "text": [
      "Epoch 1/100\n",
      "110/110 [==============================] - 1s 2ms/step - loss: 0.4292 - accuracy: 0.8617 - val_loss: 0.1533 - val_accuracy: 0.9700\n",
      "Epoch 2/100\n",
      "110/110 [==============================] - 0s 980us/step - loss: 0.1093 - accuracy: 0.9614 - val_loss: 0.0713 - val_accuracy: 0.9740\n",
      "Epoch 3/100\n",
      "110/110 [==============================] - 0s 1ms/step - loss: 0.0848 - accuracy: 0.9643 - val_loss: 0.0661 - val_accuracy: 0.9760\n",
      "Epoch 4/100\n",
      "110/110 [==============================] - 0s 1ms/step - loss: 0.0817 - accuracy: 0.9643 - val_loss: 0.0651 - val_accuracy: 0.9760\n",
      "Epoch 5/100\n",
      "110/110 [==============================] - 0s 989us/step - loss: 0.0792 - accuracy: 0.9663 - val_loss: 0.0638 - val_accuracy: 0.9747\n",
      "Epoch 6/100\n",
      "110/110 [==============================] - 0s 994us/step - loss: 0.0773 - accuracy: 0.9677 - val_loss: 0.0632 - val_accuracy: 0.9767\n",
      "Epoch 7/100\n",
      "110/110 [==============================] - 0s 1ms/step - loss: 0.0761 - accuracy: 0.9666 - val_loss: 0.0635 - val_accuracy: 0.9727\n",
      "Epoch 8/100\n",
      "110/110 [==============================] - 0s 1ms/step - loss: 0.0750 - accuracy: 0.9671 - val_loss: 0.0615 - val_accuracy: 0.9747\n",
      "Epoch 9/100\n",
      "110/110 [==============================] - 0s 964us/step - loss: 0.0737 - accuracy: 0.9706 - val_loss: 0.0615 - val_accuracy: 0.9767\n",
      "Epoch 10/100\n",
      "110/110 [==============================] - 0s 944us/step - loss: 0.0722 - accuracy: 0.9680 - val_loss: 0.0615 - val_accuracy: 0.9753\n",
      "Epoch 11/100\n",
      "110/110 [==============================] - 0s 1ms/step - loss: 0.0712 - accuracy: 0.9689 - val_loss: 0.0605 - val_accuracy: 0.9753\n",
      "Epoch 12/100\n",
      "110/110 [==============================] - 0s 963us/step - loss: 0.0706 - accuracy: 0.9674 - val_loss: 0.0610 - val_accuracy: 0.9734\n",
      "Epoch 13/100\n",
      "110/110 [==============================] - 0s 1ms/step - loss: 0.0701 - accuracy: 0.9677 - val_loss: 0.0600 - val_accuracy: 0.9807\n",
      "Epoch 14/100\n",
      "110/110 [==============================] - 0s 971us/step - loss: 0.0689 - accuracy: 0.9686 - val_loss: 0.0612 - val_accuracy: 0.9800\n",
      "Epoch 15/100\n",
      "110/110 [==============================] - 0s 1ms/step - loss: 0.0680 - accuracy: 0.9700 - val_loss: 0.0597 - val_accuracy: 0.9740\n",
      "Epoch 16/100\n",
      "110/110 [==============================] - 0s 966us/step - loss: 0.0684 - accuracy: 0.9689 - val_loss: 0.0600 - val_accuracy: 0.9753\n",
      "Epoch 17/100\n",
      "110/110 [==============================] - 0s 840us/step - loss: 0.0667 - accuracy: 0.9686 - val_loss: 0.0600 - val_accuracy: 0.9773\n",
      "Epoch 18/100\n",
      "110/110 [==============================] - 0s 961us/step - loss: 0.0654 - accuracy: 0.9714 - val_loss: 0.0610 - val_accuracy: 0.9753\n",
      "Epoch 19/100\n",
      "110/110 [==============================] - 0s 940us/step - loss: 0.0661 - accuracy: 0.9691 - val_loss: 0.0600 - val_accuracy: 0.9747\n",
      "Epoch 20/100\n",
      "110/110 [==============================] - 0s 966us/step - loss: 0.0652 - accuracy: 0.9714 - val_loss: 0.0605 - val_accuracy: 0.9787\n",
      "Epoch 21/100\n",
      "110/110 [==============================] - 0s 1ms/step - loss: 0.0643 - accuracy: 0.9729 - val_loss: 0.0609 - val_accuracy: 0.9720\n",
      "Epoch 22/100\n",
      "110/110 [==============================] - 0s 977us/step - loss: 0.0645 - accuracy: 0.9706 - val_loss: 0.0616 - val_accuracy: 0.9780\n",
      "Epoch 23/100\n",
      "110/110 [==============================] - 0s 1ms/step - loss: 0.0632 - accuracy: 0.9711 - val_loss: 0.0613 - val_accuracy: 0.9813\n",
      "Epoch 24/100\n",
      "110/110 [==============================] - 0s 969us/step - loss: 0.0621 - accuracy: 0.9731 - val_loss: 0.0614 - val_accuracy: 0.9773\n",
      "Epoch 25/100\n",
      "110/110 [==============================] - 0s 931us/step - loss: 0.0629 - accuracy: 0.9714 - val_loss: 0.0615 - val_accuracy: 0.9740\n",
      "Epoch 26/100\n",
      "110/110 [==============================] - 0s 946us/step - loss: 0.0617 - accuracy: 0.9734 - val_loss: 0.0633 - val_accuracy: 0.9807\n",
      "Epoch 27/100\n",
      "110/110 [==============================] - 0s 927us/step - loss: 0.0622 - accuracy: 0.9740 - val_loss: 0.0623 - val_accuracy: 0.9780\n",
      "Epoch 28/100\n",
      "110/110 [==============================] - 0s 985us/step - loss: 0.0613 - accuracy: 0.9751 - val_loss: 0.0622 - val_accuracy: 0.9780\n",
      "Epoch 29/100\n",
      "110/110 [==============================] - 0s 1ms/step - loss: 0.0602 - accuracy: 0.9746 - val_loss: 0.0643 - val_accuracy: 0.9707\n",
      "Epoch 30/100\n",
      "110/110 [==============================] - 0s 1ms/step - loss: 0.0594 - accuracy: 0.9746 - val_loss: 0.0630 - val_accuracy: 0.9720\n",
      "Epoch 31/100\n",
      "110/110 [==============================] - 0s 1ms/step - loss: 0.0600 - accuracy: 0.9729 - val_loss: 0.0633 - val_accuracy: 0.9740\n",
      "Epoch 32/100\n",
      "110/110 [==============================] - 0s 1ms/step - loss: 0.0592 - accuracy: 0.9740 - val_loss: 0.0639 - val_accuracy: 0.9707\n",
      "Epoch 33/100\n",
      "110/110 [==============================] - 0s 1ms/step - loss: 0.0589 - accuracy: 0.9763 - val_loss: 0.0636 - val_accuracy: 0.9760\n",
      "Epoch 34/100\n",
      "110/110 [==============================] - 0s 1ms/step - loss: 0.0584 - accuracy: 0.9751 - val_loss: 0.0638 - val_accuracy: 0.9720\n",
      "Epoch 35/100\n",
      "110/110 [==============================] - 0s 1ms/step - loss: 0.0581 - accuracy: 0.9760 - val_loss: 0.0662 - val_accuracy: 0.9747\n",
      "Epoch 36/100\n",
      "110/110 [==============================] - 0s 1ms/step - loss: 0.0571 - accuracy: 0.9751 - val_loss: 0.0652 - val_accuracy: 0.9720\n",
      "Epoch 37/100\n",
      "110/110 [==============================] - 0s 1ms/step - loss: 0.0570 - accuracy: 0.9766 - val_loss: 0.0636 - val_accuracy: 0.9780\n",
      "Epoch 38/100\n",
      "110/110 [==============================] - 0s 1ms/step - loss: 0.0572 - accuracy: 0.9766 - val_loss: 0.0661 - val_accuracy: 0.9740\n",
      "Epoch 39/100\n",
      "110/110 [==============================] - 0s 1ms/step - loss: 0.0557 - accuracy: 0.9754 - val_loss: 0.0661 - val_accuracy: 0.9747\n",
      "Epoch 40/100\n",
      "110/110 [==============================] - 0s 1ms/step - loss: 0.0552 - accuracy: 0.9766 - val_loss: 0.0697 - val_accuracy: 0.9694\n",
      "Epoch 41/100\n",
      "110/110 [==============================] - 0s 1ms/step - loss: 0.0559 - accuracy: 0.9771 - val_loss: 0.0665 - val_accuracy: 0.9753\n",
      "Epoch 42/100\n",
      "110/110 [==============================] - 0s 948us/step - loss: 0.0544 - accuracy: 0.9766 - val_loss: 0.0686 - val_accuracy: 0.9760\n",
      "Epoch 43/100\n",
      "110/110 [==============================] - 0s 1ms/step - loss: 0.0541 - accuracy: 0.9791 - val_loss: 0.0692 - val_accuracy: 0.9753\n",
      "Epoch 44/100\n",
      "110/110 [==============================] - 0s 1ms/step - loss: 0.0539 - accuracy: 0.9777 - val_loss: 0.0705 - val_accuracy: 0.9714\n",
      "Epoch 45/100\n",
      "110/110 [==============================] - 0s 922us/step - loss: 0.0535 - accuracy: 0.9794 - val_loss: 0.0686 - val_accuracy: 0.9780\n",
      "Epoch 46/100\n",
      "110/110 [==============================] - 0s 997us/step - loss: 0.0524 - accuracy: 0.9780 - val_loss: 0.0716 - val_accuracy: 0.9707\n",
      "Epoch 47/100\n",
      "110/110 [==============================] - 0s 972us/step - loss: 0.0541 - accuracy: 0.9769 - val_loss: 0.0704 - val_accuracy: 0.9707\n",
      "Epoch 48/100\n",
      "110/110 [==============================] - 0s 975us/step - loss: 0.0529 - accuracy: 0.9777 - val_loss: 0.0719 - val_accuracy: 0.9727\n",
      "Epoch 49/100\n",
      "110/110 [==============================] - 0s 945us/step - loss: 0.0528 - accuracy: 0.9800 - val_loss: 0.0718 - val_accuracy: 0.9720\n",
      "Epoch 50/100\n",
      "110/110 [==============================] - 0s 952us/step - loss: 0.0523 - accuracy: 0.9777 - val_loss: 0.0728 - val_accuracy: 0.9714\n",
      "Epoch 51/100\n",
      "110/110 [==============================] - 0s 980us/step - loss: 0.0526 - accuracy: 0.9780 - val_loss: 0.0714 - val_accuracy: 0.9740\n",
      "Epoch 52/100\n",
      "110/110 [==============================] - 0s 989us/step - loss: 0.0515 - accuracy: 0.9797 - val_loss: 0.0725 - val_accuracy: 0.9714\n",
      "Epoch 53/100\n",
      "110/110 [==============================] - 0s 985us/step - loss: 0.0511 - accuracy: 0.9800 - val_loss: 0.0747 - val_accuracy: 0.9700\n",
      "Epoch 54/100\n",
      "110/110 [==============================] - 0s 1ms/step - loss: 0.0517 - accuracy: 0.9797 - val_loss: 0.0725 - val_accuracy: 0.9727\n",
      "Epoch 55/100\n",
      "110/110 [==============================] - 0s 1ms/step - loss: 0.0500 - accuracy: 0.9791 - val_loss: 0.0736 - val_accuracy: 0.9747\n",
      "Epoch 56/100\n",
      "110/110 [==============================] - 0s 1ms/step - loss: 0.0503 - accuracy: 0.9780 - val_loss: 0.0735 - val_accuracy: 0.9734\n",
      "Epoch 57/100\n"
     ]
    },
    {
     "name": "stdout",
     "output_type": "stream",
     "text": [
      "110/110 [==============================] - 0s 1ms/step - loss: 0.0509 - accuracy: 0.9800 - val_loss: 0.0742 - val_accuracy: 0.9787\n",
      "Epoch 58/100\n",
      "110/110 [==============================] - 0s 914us/step - loss: 0.0502 - accuracy: 0.9800 - val_loss: 0.0757 - val_accuracy: 0.9740\n",
      "Epoch 59/100\n",
      "110/110 [==============================] - 0s 990us/step - loss: 0.0497 - accuracy: 0.9809 - val_loss: 0.0769 - val_accuracy: 0.9720\n",
      "Epoch 60/100\n",
      "110/110 [==============================] - 0s 1ms/step - loss: 0.0498 - accuracy: 0.9789 - val_loss: 0.0759 - val_accuracy: 0.9720\n",
      "Epoch 61/100\n",
      "110/110 [==============================] - 0s 1ms/step - loss: 0.0490 - accuracy: 0.9817 - val_loss: 0.0757 - val_accuracy: 0.9700\n",
      "Epoch 62/100\n",
      "110/110 [==============================] - 0s 954us/step - loss: 0.0497 - accuracy: 0.9803 - val_loss: 0.0736 - val_accuracy: 0.9727\n",
      "Epoch 63/100\n",
      "110/110 [==============================] - 0s 1ms/step - loss: 0.0491 - accuracy: 0.9803 - val_loss: 0.0787 - val_accuracy: 0.9707\n",
      "Epoch 64/100\n",
      "110/110 [==============================] - 0s 944us/step - loss: 0.0489 - accuracy: 0.9806 - val_loss: 0.0802 - val_accuracy: 0.9700\n",
      "Epoch 65/100\n",
      "110/110 [==============================] - 0s 966us/step - loss: 0.0485 - accuracy: 0.9809 - val_loss: 0.0790 - val_accuracy: 0.9707\n",
      "Epoch 66/100\n",
      "110/110 [==============================] - 0s 965us/step - loss: 0.0495 - accuracy: 0.9803 - val_loss: 0.0768 - val_accuracy: 0.9707\n",
      "Epoch 67/100\n",
      "110/110 [==============================] - 0s 967us/step - loss: 0.0478 - accuracy: 0.9811 - val_loss: 0.0791 - val_accuracy: 0.9707\n",
      "Epoch 68/100\n",
      "110/110 [==============================] - 0s 957us/step - loss: 0.0477 - accuracy: 0.9817 - val_loss: 0.0804 - val_accuracy: 0.9714\n",
      "Epoch 69/100\n",
      "110/110 [==============================] - 0s 944us/step - loss: 0.0469 - accuracy: 0.9820 - val_loss: 0.0857 - val_accuracy: 0.9694\n",
      "Epoch 70/100\n",
      "110/110 [==============================] - 0s 949us/step - loss: 0.0478 - accuracy: 0.9794 - val_loss: 0.0806 - val_accuracy: 0.9694\n",
      "Epoch 71/100\n",
      "110/110 [==============================] - 0s 986us/step - loss: 0.0467 - accuracy: 0.9820 - val_loss: 0.0790 - val_accuracy: 0.9720\n",
      "Epoch 72/100\n",
      "110/110 [==============================] - 0s 1ms/step - loss: 0.0476 - accuracy: 0.9803 - val_loss: 0.0837 - val_accuracy: 0.9700\n",
      "Epoch 73/100\n",
      "110/110 [==============================] - 0s 1ms/step - loss: 0.0472 - accuracy: 0.9823 - val_loss: 0.0832 - val_accuracy: 0.9694\n",
      "Epoch 74/100\n",
      "110/110 [==============================] - 0s 893us/step - loss: 0.0465 - accuracy: 0.9806 - val_loss: 0.0885 - val_accuracy: 0.9700\n",
      "Epoch 75/100\n",
      "110/110 [==============================] - 0s 984us/step - loss: 0.0465 - accuracy: 0.9814 - val_loss: 0.0819 - val_accuracy: 0.9714\n",
      "Epoch 76/100\n",
      "110/110 [==============================] - 0s 1ms/step - loss: 0.0464 - accuracy: 0.9809 - val_loss: 0.0851 - val_accuracy: 0.9694\n",
      "Epoch 77/100\n",
      "110/110 [==============================] - 0s 1ms/step - loss: 0.0458 - accuracy: 0.9811 - val_loss: 0.0860 - val_accuracy: 0.9667\n",
      "Epoch 78/100\n",
      "110/110 [==============================] - 0s 979us/step - loss: 0.0462 - accuracy: 0.9809 - val_loss: 0.0868 - val_accuracy: 0.9687\n",
      "Epoch 79/100\n",
      "110/110 [==============================] - 0s 956us/step - loss: 0.0467 - accuracy: 0.9806 - val_loss: 0.0834 - val_accuracy: 0.9707\n",
      "Epoch 80/100\n",
      "110/110 [==============================] - 0s 1ms/step - loss: 0.0460 - accuracy: 0.9809 - val_loss: 0.0872 - val_accuracy: 0.9714\n",
      "Epoch 81/100\n",
      "110/110 [==============================] - 0s 943us/step - loss: 0.0452 - accuracy: 0.9817 - val_loss: 0.0893 - val_accuracy: 0.9694\n",
      "Epoch 82/100\n",
      "110/110 [==============================] - 0s 1ms/step - loss: 0.0456 - accuracy: 0.9803 - val_loss: 0.0892 - val_accuracy: 0.9700\n",
      "Epoch 83/100\n",
      "110/110 [==============================] - 0s 988us/step - loss: 0.0459 - accuracy: 0.9826 - val_loss: 0.0857 - val_accuracy: 0.9694\n",
      "Epoch 84/100\n",
      "110/110 [==============================] - 0s 975us/step - loss: 0.0445 - accuracy: 0.9820 - val_loss: 0.0847 - val_accuracy: 0.9734\n",
      "Epoch 85/100\n",
      "110/110 [==============================] - 0s 990us/step - loss: 0.0456 - accuracy: 0.9829 - val_loss: 0.0846 - val_accuracy: 0.9714\n",
      "Epoch 86/100\n",
      "110/110 [==============================] - 0s 985us/step - loss: 0.0446 - accuracy: 0.9829 - val_loss: 0.0886 - val_accuracy: 0.9694\n",
      "Epoch 87/100\n",
      "110/110 [==============================] - 0s 1ms/step - loss: 0.0443 - accuracy: 0.9826 - val_loss: 0.0866 - val_accuracy: 0.9720\n",
      "Epoch 88/100\n",
      "110/110 [==============================] - 0s 1ms/step - loss: 0.0447 - accuracy: 0.9826 - val_loss: 0.0917 - val_accuracy: 0.9707\n",
      "Epoch 89/100\n",
      "110/110 [==============================] - 0s 983us/step - loss: 0.0445 - accuracy: 0.9846 - val_loss: 0.0854 - val_accuracy: 0.9707\n",
      "Epoch 90/100\n",
      "110/110 [==============================] - 0s 927us/step - loss: 0.0445 - accuracy: 0.9831 - val_loss: 0.0886 - val_accuracy: 0.9694\n",
      "Epoch 91/100\n",
      "110/110 [==============================] - 0s 940us/step - loss: 0.0439 - accuracy: 0.9817 - val_loss: 0.0912 - val_accuracy: 0.9674\n",
      "Epoch 92/100\n",
      "110/110 [==============================] - 0s 1ms/step - loss: 0.0439 - accuracy: 0.9831 - val_loss: 0.0915 - val_accuracy: 0.9700\n",
      "Epoch 93/100\n",
      "110/110 [==============================] - 0s 948us/step - loss: 0.0438 - accuracy: 0.9837 - val_loss: 0.0982 - val_accuracy: 0.9687\n",
      "Epoch 94/100\n",
      "110/110 [==============================] - 0s 980us/step - loss: 0.0431 - accuracy: 0.9831 - val_loss: 0.0961 - val_accuracy: 0.9700\n",
      "Epoch 95/100\n",
      "110/110 [==============================] - 0s 967us/step - loss: 0.0450 - accuracy: 0.9823 - val_loss: 0.0920 - val_accuracy: 0.9707\n",
      "Epoch 96/100\n",
      "110/110 [==============================] - 0s 980us/step - loss: 0.0448 - accuracy: 0.9817 - val_loss: 0.0875 - val_accuracy: 0.9707\n",
      "Epoch 97/100\n",
      "110/110 [==============================] - 0s 940us/step - loss: 0.0421 - accuracy: 0.9849 - val_loss: 0.1097 - val_accuracy: 0.9654\n",
      "Epoch 98/100\n",
      "110/110 [==============================] - 0s 959us/step - loss: 0.0436 - accuracy: 0.9843 - val_loss: 0.0912 - val_accuracy: 0.9707\n",
      "Epoch 99/100\n",
      "110/110 [==============================] - 0s 973us/step - loss: 0.0432 - accuracy: 0.9834 - val_loss: 0.0937 - val_accuracy: 0.9700\n",
      "Epoch 100/100\n",
      "110/110 [==============================] - 0s 968us/step - loss: 0.0431 - accuracy: 0.9826 - val_loss: 0.0974 - val_accuracy: 0.9700\n"
     ]
    }
   ],
   "source": [
    "# Filtting the model and validating the results on test data with batch size of 32 and running for 100 epochs\n",
    "my_model=ann_model.fit(x=X_train,y=y_train,batch_size=32,epochs=100,validation_data=(X_test,y_test))"
   ]
  },
  {
   "cell_type": "code",
   "execution_count": 112,
   "id": "44b90c92",
   "metadata": {
    "scrolled": false
   },
   "outputs": [
    {
     "data": {
      "image/png": "[encoded data removed]",
      "text/plain": [
       "<Figure size 1440x360 with 2 Axes>"
      ]
     },
     "metadata": {
      "needs_background": "light"
     },
     "output_type": "display_data"
    }
   ],
   "source": [
    "#Plotting the final results\n",
    "plt.figure(figsize=(20,5))\n",
    "plt.subplot(132)\n",
    "plt.plot(my_model.history['accuracy'],label='Train')\n",
    "plt.plot(my_model.history['val_accuracy'],label=\"Test\")\n",
    "plt.title(\"Accuracy of Train and Test\")\n",
    "plt.legend()\n",
    "\n",
    "plt.subplot(133)\n",
    "plt.plot(my_model.history['loss'],label='Train')\n",
    "plt.plot(my_model.history['val_loss'],label=\"Test\")\n",
    "plt.title(\"Loss of Train and Test\")\n",
    "plt.legend()\n",
    "\n",
    "plt.show()"
   ]
  },
  {
   "cell_type": "markdown",
   "id": "d1757a0b",
   "metadata": {},
   "source": [
    "#### Conclusion:"
   ]
  },
  {
   "cell_type": "markdown",
   "id": "89a5295b",
   "metadata": {},
   "source": [
    "- We get an ANN model with accuracy of 98% on Train set and 97% on Test set\n",
    "- Loss on the Train set is 0.04 and 0.07 on Test set.\n",
    "- The model gives quite high accuracy indicating low bias \n",
    "- Since the results on both the sets are close to each other , the rate of variance is quite low as well."
   ]
  },
  {
   "cell_type": "code",
   "execution_count": null,
   "id": "f7c0e9ee",
   "metadata": {},
   "outputs": [],
   "source": []
  }
 ],
 "metadata": {
  "kernelspec": {
   "display_name": "Python 3",
   "language": "python",
   "name": "python3"
  },
  "language_info": {
   "codemirror_mode": {
    "name": "ipython",
    "version": 3
   },
   "file_extension": ".py",
   "mimetype": "text/x-python",
   "name": "python",
   "nbconvert_exporter": "python",
   "pygments_lexer": "ipython3",
   "version": "3.6.13"
  }
 },
 "nbformat": 4,
 "nbformat_minor": 5
}
